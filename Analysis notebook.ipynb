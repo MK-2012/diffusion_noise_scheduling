{
 "cells": [
  {
   "cell_type": "code",
   "execution_count": 1,
   "id": "67fe4880",
   "metadata": {},
   "outputs": [],
   "source": [
    "import numpy as np\n",
    "import pandas as pd\n",
    "import scipy.stats as sps\n",
    "from tqdm import tqdm\n",
    "from torchinfo import summary # DEBUG\n",
    "\n",
    "from utils.utils import *\n",
    "from utils.dataset_loaders import *\n",
    "from models.basic_model import *\n",
    "\n",
    "import torch\n",
    "from torch import nn\n",
    "from torch.utils.data import DataLoader\n",
    "from torchvision.io import write_video\n",
    "from diffusers import UNet3DConditionModel, DDPMScheduler\n",
    "\n",
    "import matplotlib.pyplot as plt\n",
    "import seaborn as sns\n",
    "sns.set_theme(style=\"whitegrid\")"
   ]
  },
  {
   "cell_type": "markdown",
   "id": "e96b6dff",
   "metadata": {},
   "source": [
    "Creating dataset and dataloader for UCF-101."
   ]
  },
  {
   "cell_type": "code",
   "execution_count": 2,
   "id": "cb5c4693",
   "metadata": {},
   "outputs": [],
   "source": [
    "UCF_dataset = UCFDataset(\"./datasets/UCF-101/\")\n",
    "\n",
    "batch_size = 1\n",
    "UCF_dataloader = DataLoader(UCF_dataset, shuffle=True, batch_size=batch_size)"
   ]
  },
  {
   "cell_type": "markdown",
   "id": "fe366fbf",
   "metadata": {},
   "source": [
    "Trying default DDPMScheduler for working with videos."
   ]
  },
  {
   "cell_type": "code",
   "execution_count": 3,
   "id": "667c7430",
   "metadata": {},
   "outputs": [],
   "source": [
    "model, noise_scheduler, optimizer, lr_scheduler, criterion = init_basic_model(\n",
    "    lr_warmup_steps=100,\n",
    "    num_epochs=1,\n",
    "    beta_start=1e-4,\n",
    "    beta_end=2e-2,\n",
    "    object_cnt = len(UCF_dataloader),\n",
    ")"
   ]
  },
  {
   "cell_type": "code",
   "execution_count": 4,
   "id": "34783fbe",
   "metadata": {},
   "outputs": [
    {
     "name": "stderr",
     "output_type": "stream",
     "text": [
      "  0%|                                                                                                             | 0/13320 [05:37<?, ?it/s, MSE=1.09]"
     ]
    },
    {
     "name": "stdout",
     "output_type": "stream",
     "text": [
      "done once\n"
     ]
    },
    {
     "name": "stderr",
     "output_type": "stream",
     "text": [
      "\n"
     ]
    },
    {
     "data": {
      "text/plain": [
       "[1.0888562202453613]"
      ]
     },
     "execution_count": 4,
     "metadata": {},
     "output_type": "execute_result"
    }
   ],
   "source": [
    "train_simple_new(\n",
    "    model=model,\n",
    "    dataloader=UCF_dataloader,\n",
    "    noise_scheduler=noise_scheduler,\n",
    "    optimizer=optimizer,\n",
    "    lr_scheduler=lr_scheduler,\n",
    "    criterion=criterion,\n",
    "    num_epochs=1,\n",
    "    device=\"cpu\",\n",
    "    noise_cov=progressive_noise,\n",
    ")"
   ]
  },
  {
   "cell_type": "code",
   "execution_count": null,
   "id": "1d79c627",
   "metadata": {},
   "outputs": [
    {
     "name": "stderr",
     "output_type": "stream",
     "text": [
      "  0%|▏                                                                                                           | 2/1000 [03:50<31:19:35, 113.00s/it]"
     ]
    }
   ],
   "source": [
    "vid = sample_videos(model=model, num_videos=1, video_length=25, noise_scheduler=noise_scheduler)"
   ]
  },
  {
   "cell_type": "code",
   "execution_count": 3,
   "id": "acb59432",
   "metadata": {
    "scrolled": true
   },
   "outputs": [
    {
     "data": {
      "text/plain": [
       "=============================================================================================================================\n",
       "Layer (type:depth-idx)                                                      Output Shape              Param #\n",
       "=============================================================================================================================\n",
       "UNet3DConditionModel                                                        [1, 3, 75, 240, 320]      --\n",
       "├─Timesteps: 1-1                                                            [1, 12]                   --\n",
       "├─TimestepEmbedding: 1-2                                                    [1, 48]                   2,352\n",
       "│    └─LoRACompatibleLinear: 2-1                                            [1, 48]                   624\n",
       "├─SiLU: 1-3                                                                 [1, 48]                   --\n",
       "├─TimestepEmbedding: 1-4                                                    --                        (recursive)\n",
       "│    └─LoRACompatibleLinear: 2-2                                            [1, 48]                   2,352\n",
       "├─Conv2d: 1-5                                                               [75, 12, 240, 320]        336\n",
       "├─TransformerTemporalModel: 1-6                                             [75, 12, 240, 320]        --\n",
       "│    └─GroupNorm: 2-3                                                       [1, 12, 75, 240, 320]     24\n",
       "│    └─Linear: 2-4                                                          [76800, 75, 64]           832\n",
       "│    └─ModuleList: 2-5                                                      --                        --\n",
       "│    │    └─BasicTransformerBlock: 3-1                                      [76800, 75, 64]           83,008\n",
       "│    └─Linear: 2-6                                                          [76800, 75, 12]           780\n",
       "├─ModuleList: 1-19                                                          --                        (recursive)\n",
       "│    └─DownBlock3D: 2-7                                                     [75, 12, 240, 320]        6,996\n",
       "│    │    └─ModuleList: 3-10                                                --                        (recursive)\n",
       "├─SiLU: 1-8                                                                 [75, 12, 240, 320]        --\n",
       "├─ModuleList: 1-19                                                          --                        (recursive)\n",
       "│    └─DownBlock3D: 2-13                                                    --                        (recursive)\n",
       "│    │    └─ModuleList: 3-10                                                --                        (recursive)\n",
       "├─SiLU: 1-10                                                                [75, 48]                  --\n",
       "├─ModuleList: 1-19                                                          --                        (recursive)\n",
       "│    └─DownBlock3D: 2-13                                                    --                        (recursive)\n",
       "│    │    └─ModuleList: 3-10                                                --                        (recursive)\n",
       "├─SiLU: 1-12                                                                [75, 12, 240, 320]        --\n",
       "├─ModuleList: 1-19                                                          --                        (recursive)\n",
       "│    └─DownBlock3D: 2-13                                                    --                        (recursive)\n",
       "│    │    └─ModuleList: 3-10                                                --                        (recursive)\n",
       "│    │    └─ModuleList: 3-11                                                --                        (recursive)\n",
       "│    │    └─ModuleList: 3-10                                                --                        (recursive)\n",
       "├─SiLU: 1-14                                                                [75, 12, 240, 320]        --\n",
       "├─ModuleList: 1-19                                                          --                        (recursive)\n",
       "│    └─DownBlock3D: 2-13                                                    --                        (recursive)\n",
       "│    │    └─ModuleList: 3-10                                                --                        (recursive)\n",
       "├─SiLU: 1-16                                                                [75, 48]                  --\n",
       "├─ModuleList: 1-19                                                          --                        (recursive)\n",
       "│    └─DownBlock3D: 2-13                                                    --                        (recursive)\n",
       "│    │    └─ModuleList: 3-10                                                --                        (recursive)\n",
       "├─SiLU: 1-18                                                                [75, 12, 240, 320]        --\n",
       "├─ModuleList: 1-19                                                          --                        (recursive)\n",
       "│    └─DownBlock3D: 2-13                                                    --                        (recursive)\n",
       "│    │    └─ModuleList: 3-10                                                --                        (recursive)\n",
       "│    │    └─ModuleList: 3-11                                                --                        (recursive)\n",
       "├─UNetMidBlock3DCrossAttn: 1-20                                             [75, 12, 240, 320]        10,556\n",
       "│    └─ModuleList: 2-24                                                     --                        (recursive)\n",
       "│    │    └─ResnetBlock2D: 3-12                                             [75, 12, 240, 320]        3,252\n",
       "├─SiLU: 1-21                                                                [75, 12, 240, 320]        --\n",
       "├─UNetMidBlock3DCrossAttn: 1-32                                             --                        (recursive)\n",
       "│    └─ModuleList: 2-24                                                     --                        (recursive)\n",
       "│    │    └─ResnetBlock2D: 3-15                                             --                        (recursive)\n",
       "├─SiLU: 1-23                                                                [75, 48]                  --\n",
       "├─UNetMidBlock3DCrossAttn: 1-32                                             --                        (recursive)\n",
       "│    └─ModuleList: 2-24                                                     --                        (recursive)\n",
       "│    │    └─ResnetBlock2D: 3-15                                             --                        (recursive)\n",
       "├─SiLU: 1-25                                                                [75, 12, 240, 320]        --\n",
       "├─UNetMidBlock3DCrossAttn: 1-32                                             --                        (recursive)\n",
       "│    └─ModuleList: 2-24                                                     --                        (recursive)\n",
       "│    │    └─ResnetBlock2D: 3-15                                             --                        (recursive)\n",
       "│    └─ModuleList: 2-25                                                     --                        (recursive)\n",
       "│    │    └─TemporalConvLayer: 3-16                                         [75, 12, 240, 320]        1,872\n",
       "│    └─ModuleList: 2-19                                                     --                        --\n",
       "│    │    └─Transformer2DModel: 3-17                                        [75, 12, 240, 320]        1,908\n",
       "│    └─ModuleList: 2-20                                                     --                        --\n",
       "│    │    └─TransformerTemporalModel: 3-18                                  [75, 12, 240, 320]        1,652\n",
       "│    └─ModuleList: 2-24                                                     --                        (recursive)\n",
       "│    │    └─ResnetBlock2D: 3-19                                             [75, 12, 240, 320]        3,252\n",
       "├─SiLU: 1-27                                                                [75, 12, 240, 320]        --\n",
       "├─UNetMidBlock3DCrossAttn: 1-32                                             --                        (recursive)\n",
       "│    └─ModuleList: 2-24                                                     --                        (recursive)\n",
       "│    │    └─ResnetBlock2D: 3-22                                             --                        (recursive)\n",
       "├─SiLU: 1-29                                                                [75, 48]                  --\n",
       "├─UNetMidBlock3DCrossAttn: 1-32                                             --                        (recursive)\n",
       "│    └─ModuleList: 2-24                                                     --                        (recursive)\n",
       "│    │    └─ResnetBlock2D: 3-22                                             --                        (recursive)\n",
       "├─SiLU: 1-31                                                                [75, 12, 240, 320]        --\n",
       "├─UNetMidBlock3DCrossAttn: 1-32                                             --                        (recursive)\n",
       "│    └─ModuleList: 2-24                                                     --                        (recursive)\n",
       "│    │    └─ResnetBlock2D: 3-22                                             --                        (recursive)\n",
       "│    └─ModuleList: 2-25                                                     --                        (recursive)\n",
       "│    │    └─TemporalConvLayer: 3-23                                         [75, 12, 240, 320]        1,872\n",
       "├─ModuleList: 1-51                                                          --                        (recursive)\n",
       "│    └─UpBlock3D: 2-26                                                      [75, 12, 240, 320]        15,360\n",
       "│    │    └─ModuleList: 3-37                                                --                        (recursive)\n",
       "├─SiLU: 1-34                                                                [75, 24, 240, 320]        --\n",
       "├─ModuleList: 1-51                                                          --                        (recursive)\n",
       "│    └─UpBlock3D: 2-35                                                      --                        (recursive)\n",
       "│    │    └─ModuleList: 3-37                                                --                        (recursive)\n",
       "├─SiLU: 1-36                                                                [75, 48]                  --\n",
       "├─ModuleList: 1-51                                                          --                        (recursive)\n",
       "│    └─UpBlock3D: 2-35                                                      --                        (recursive)\n",
       "│    │    └─ModuleList: 3-37                                                --                        (recursive)\n",
       "├─SiLU: 1-38                                                                [75, 12, 240, 320]        --\n",
       "├─ModuleList: 1-51                                                          --                        (recursive)\n",
       "│    └─UpBlock3D: 2-35                                                      --                        (recursive)\n",
       "│    │    └─ModuleList: 3-37                                                --                        (recursive)\n",
       "│    │    └─ModuleList: 3-38                                                --                        (recursive)\n",
       "│    │    └─ModuleList: 3-37                                                --                        (recursive)\n",
       "├─SiLU: 1-40                                                                [75, 24, 240, 320]        --\n",
       "├─ModuleList: 1-51                                                          --                        (recursive)\n",
       "│    └─UpBlock3D: 2-35                                                      --                        (recursive)\n",
       "│    │    └─ModuleList: 3-37                                                --                        (recursive)\n",
       "├─SiLU: 1-42                                                                [75, 48]                  --\n",
       "├─ModuleList: 1-51                                                          --                        (recursive)\n",
       "│    └─UpBlock3D: 2-35                                                      --                        (recursive)\n",
       "│    │    └─ModuleList: 3-37                                                --                        (recursive)\n",
       "├─SiLU: 1-44                                                                [75, 12, 240, 320]        --\n",
       "├─ModuleList: 1-51                                                          --                        (recursive)\n",
       "│    └─UpBlock3D: 2-35                                                      --                        (recursive)\n",
       "│    │    └─ModuleList: 3-37                                                --                        (recursive)\n",
       "│    │    └─ModuleList: 3-38                                                --                        (recursive)\n",
       "│    │    └─ModuleList: 3-37                                                --                        (recursive)\n",
       "├─SiLU: 1-46                                                                [75, 24, 240, 320]        --\n",
       "├─ModuleList: 1-51                                                          --                        (recursive)\n",
       "│    └─UpBlock3D: 2-35                                                      --                        (recursive)\n",
       "│    │    └─ModuleList: 3-37                                                --                        (recursive)\n",
       "├─SiLU: 1-48                                                                [75, 48]                  --\n",
       "├─ModuleList: 1-51                                                          --                        (recursive)\n",
       "│    └─UpBlock3D: 2-35                                                      --                        (recursive)\n",
       "│    │    └─ModuleList: 3-37                                                --                        (recursive)\n",
       "├─SiLU: 1-50                                                                [75, 12, 240, 320]        --\n",
       "├─ModuleList: 1-51                                                          --                        (recursive)\n",
       "│    └─UpBlock3D: 2-35                                                      --                        (recursive)\n",
       "│    │    └─ModuleList: 3-37                                                --                        (recursive)\n",
       "│    │    └─ModuleList: 3-38                                                --                        (recursive)\n",
       "├─GroupNorm: 1-52                                                           [75, 12, 240, 320]        24\n",
       "├─SiLU: 1-53                                                                [75, 12, 240, 320]        --\n",
       "├─Conv2d: 1-54                                                              [75, 3, 240, 320]         327\n",
       "=============================================================================================================================\n",
       "Total params: 195,243\n",
       "Trainable params: 195,243\n",
       "Non-trainable params: 0\n",
       "Total mult-adds (Units.GIGABYTES): 215.11\n",
       "=============================================================================================================================\n",
       "Input size (MB): 69.13\n",
       "Forward/backward pass size (MB): 131006.21\n",
       "Params size (MB): 0.53\n",
       "Estimated Total Size (MB): 131075.87\n",
       "============================================================================================================================="
      ]
     },
     "execution_count": 3,
     "metadata": {},
     "output_type": "execute_result"
    }
   ],
   "source": [
    "# torch.backends.cuda.enable_mem_efficient_sdp(False)\n",
    "# torch.backends.cuda.enable_flash_sdp(False)\n",
    "# torch.backends.cuda.enable_math_sdp(False)\n",
    "\n",
    "summary(\n",
    "    model,\n",
    "    input_data = {\n",
    "        \"sample\": torch.randn(1, 3, 75, 240, 320),\n",
    "        \"timestep\": 500,\n",
    "        \"encoder_hidden_states\": torch.ones(1, 75, 24) * 3.0,\n",
    "    }\n",
    ")"
   ]
  }
 ],
 "metadata": {
  "kernelspec": {
   "display_name": "Python 3 (ipykernel)",
   "language": "python",
   "name": "python3"
  },
  "language_info": {
   "codemirror_mode": {
    "name": "ipython",
    "version": 3
   },
   "file_extension": ".py",
   "mimetype": "text/x-python",
   "name": "python",
   "nbconvert_exporter": "python",
   "pygments_lexer": "ipython3",
   "version": "3.11.6"
  }
 },
 "nbformat": 4,
 "nbformat_minor": 5
}
