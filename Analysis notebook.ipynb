{
 "cells": [
  {
   "cell_type": "code",
   "execution_count": 1,
   "id": "67fe4880",
   "metadata": {},
   "outputs": [],
   "source": [
    "import numpy as np\n",
    "import pandas as pd\n",
    "import scipy.stats as sps\n",
    "from tqdm import tqdm\n",
    "from torchinfo import summary # DEBUG\n",
    "\n",
    "from utils.utils import *\n",
    "from utils.dataset_loaders import *\n",
    "from models.basic_models import *\n",
    "\n",
    "import torch\n",
    "from torch import nn\n",
    "from torch.utils.data import DataLoader\n",
    "from torchvision.io import write_video\n",
    "from diffusers import UNet3DConditionModel, DDPMScheduler, DDPMPipeline\n",
    "\n",
    "import matplotlib.pyplot as plt\n",
    "import seaborn as sns\n",
    "sns.set_theme(style=\"whitegrid\")"
   ]
  },
  {
   "cell_type": "code",
   "execution_count": 13,
   "id": "580790a3",
   "metadata": {},
   "outputs": [],
   "source": [
    "%reload_ext autoreload\n",
    "%autoreload 2"
   ]
  },
  {
   "cell_type": "markdown",
   "id": "e96b6dff",
   "metadata": {},
   "source": [
    "Creating dataset and dataloader for UCF-101 and MovingMNIST."
   ]
  },
  {
   "cell_type": "code",
   "execution_count": 5,
   "id": "cb5c4693",
   "metadata": {},
   "outputs": [],
   "source": [
    "# UCF_dataset = UCFDataset(\"./datasets/UCF-101/\")\n",
    "\n",
    "# batch_size = 1\n",
    "# UCF_dataloader = DataLoader(UCF_dataset, shuffle=True, batch_size=batch_size)\n",
    "\n",
    "\n",
    "MovMNIST_dataset = MovMNISTDataset(\"./datasets/moving_mnist.npy\")\n",
    "\n",
    "batch_size = 1\n",
    "MovMNIST_dataloader = DataLoader(MovMNIST_dataset, shuffle=True, batch_size=batch_size)"
   ]
  },
  {
   "cell_type": "markdown",
   "id": "fe366fbf",
   "metadata": {},
   "source": [
    "Trying default DDPMScheduler for working with videos."
   ]
  },
  {
   "cell_type": "code",
   "execution_count": 6,
   "id": "667c7430",
   "metadata": {},
   "outputs": [],
   "source": [
    "model, noise_scheduler, optimizer, lr_scheduler, criterion = init_mov_mnist_model(\n",
    "    lr_warmup_steps=100,\n",
    "    num_epochs=1,\n",
    "    beta_start=1.17e-3,\n",
    "    beta_end=1.88e-1,\n",
    "    object_cnt = len(MovMNIST_dataloader),\n",
    "    device=\"cuda:0\"\n",
    ")"
   ]
  },
  {
   "cell_type": "code",
   "execution_count": 4,
   "id": "a84e175a",
   "metadata": {},
   "outputs": [
    {
     "name": "stderr",
     "output_type": "stream",
     "text": [
      "  0%|          | 0/10000 [00:00<?, ?it/s]"
     ]
    },
    {
     "name": "stderr",
     "output_type": "stream",
     "text": [
      "100%|██████████| 10000/10000 [7:58:12<00:00,  2.87s/it, MSE=0.000249] \n"
     ]
    }
   ],
   "source": [
    "losses_mixed = train_simple_new(\n",
    "    model=model,\n",
    "    dataloader=MovMNIST_dataloader,\n",
    "    noise_scheduler=noise_scheduler,\n",
    "    optimizer=optimizer,\n",
    "    lr_scheduler=lr_scheduler,\n",
    "    criterion=criterion,\n",
    "    num_epochs=1,\n",
    "    device=\"cuda:0\",\n",
    "    noise_cov=mixed_noise,\n",
    "    cross_att_dim=4,\n",
    "    save_path=\"./models/trained/basic_mnist_mixed_noise/\"\n",
    ")"
   ]
  },
  {
   "cell_type": "code",
   "execution_count": 5,
   "id": "80a0a045",
   "metadata": {},
   "outputs": [],
   "source": [
    "# try:\n",
    "#     del model\n",
    "#     del optimizer\n",
    "#     del lr_scheduler\n",
    "# except:\n",
    "#     pass\n",
    "\n",
    "# torch.cuda.empty_cache()\n",
    "# import gc\n",
    "# gc.collect()\n",
    "\n",
    "model2, noise_scheduler2, optimizer2, lr_scheduler2, criterion = init_mov_mnist_model(\n",
    "    lr_warmup_steps=100,\n",
    "    num_epochs=1,\n",
    "    beta_start=1.17e-3,\n",
    "    beta_end=1.88e-1,\n",
    "    object_cnt = len(MovMNIST_dataloader),\n",
    "    device=\"cuda:0\"\n",
    ")"
   ]
  },
  {
   "cell_type": "code",
   "execution_count": 6,
   "id": "b7c2e5a7",
   "metadata": {},
   "outputs": [
    {
     "name": "stderr",
     "output_type": "stream",
     "text": [
      "  0%|          | 1/10000 [00:02<8:16:22,  2.98s/it, MSE=0.999]"
     ]
    },
    {
     "name": "stderr",
     "output_type": "stream",
     "text": [
      "100%|██████████| 10000/10000 [8:05:47<00:00,  2.91s/it, MSE=0.00183]  \n"
     ]
    }
   ],
   "source": [
    "losses_uncorr = train_simple_new(\n",
    "    model=model2,\n",
    "    dataloader=MovMNIST_dataloader,\n",
    "    noise_scheduler=noise_scheduler2,\n",
    "    optimizer=optimizer2,\n",
    "    lr_scheduler=lr_scheduler2,\n",
    "    criterion=criterion,\n",
    "    num_epochs=1,\n",
    "    device=\"cuda:0\",\n",
    "    cross_att_dim=4,\n",
    "    noise_cov=progressive_noise,\n",
    "    save_path=\"./models/trained/basic_mnist_prog_noise/\"\n",
    ")"
   ]
  },
  {
   "cell_type": "code",
   "execution_count": 4,
   "id": "34783fbe",
   "metadata": {},
   "outputs": [
    {
     "name": "stderr",
     "output_type": "stream",
     "text": [
      "100%|██████████| 10000/10000 [8:07:58<00:00,  2.93s/it, MSE=6.19e-5]  \n"
     ]
    },
    {
     "ename": "ValueError",
     "evalue": "too many values to unpack (expected 3)",
     "output_type": "error",
     "traceback": [
      "\u001b[0;31m---------------------------------------------------------------------------\u001b[0m",
      "\u001b[0;31mValueError\u001b[0m                                Traceback (most recent call last)",
      "\u001b[1;32m/home/mikhail_2012/diffusion_noise_scheduling/Analysis notebook.ipynb Cell 6\u001b[0m line \u001b[0;36m1\n\u001b[0;32m----> <a href='vscode-notebook-cell:/home/mikhail_2012/diffusion_noise_scheduling/Analysis%20notebook.ipynb#W6sZmlsZQ%3D%3D?line=0'>1</a>\u001b[0m a, b, c \u001b[39m=\u001b[39m train_simple_new(\n\u001b[1;32m      <a href='vscode-notebook-cell:/home/mikhail_2012/diffusion_noise_scheduling/Analysis%20notebook.ipynb#W6sZmlsZQ%3D%3D?line=1'>2</a>\u001b[0m     model\u001b[39m=\u001b[39mmodel,\n\u001b[1;32m      <a href='vscode-notebook-cell:/home/mikhail_2012/diffusion_noise_scheduling/Analysis%20notebook.ipynb#W6sZmlsZQ%3D%3D?line=2'>3</a>\u001b[0m     dataloader\u001b[39m=\u001b[39mMovMNIST_dataloader,\n\u001b[1;32m      <a href='vscode-notebook-cell:/home/mikhail_2012/diffusion_noise_scheduling/Analysis%20notebook.ipynb#W6sZmlsZQ%3D%3D?line=3'>4</a>\u001b[0m     noise_scheduler\u001b[39m=\u001b[39mnoise_scheduler,\n\u001b[1;32m      <a href='vscode-notebook-cell:/home/mikhail_2012/diffusion_noise_scheduling/Analysis%20notebook.ipynb#W6sZmlsZQ%3D%3D?line=4'>5</a>\u001b[0m     optimizer\u001b[39m=\u001b[39moptimizer,\n\u001b[1;32m      <a href='vscode-notebook-cell:/home/mikhail_2012/diffusion_noise_scheduling/Analysis%20notebook.ipynb#W6sZmlsZQ%3D%3D?line=5'>6</a>\u001b[0m     lr_scheduler\u001b[39m=\u001b[39mlr_scheduler,\n\u001b[1;32m      <a href='vscode-notebook-cell:/home/mikhail_2012/diffusion_noise_scheduling/Analysis%20notebook.ipynb#W6sZmlsZQ%3D%3D?line=6'>7</a>\u001b[0m     criterion\u001b[39m=\u001b[39mcriterion,\n\u001b[1;32m      <a href='vscode-notebook-cell:/home/mikhail_2012/diffusion_noise_scheduling/Analysis%20notebook.ipynb#W6sZmlsZQ%3D%3D?line=7'>8</a>\u001b[0m     num_epochs\u001b[39m=\u001b[39m\u001b[39m1\u001b[39m,\n\u001b[1;32m      <a href='vscode-notebook-cell:/home/mikhail_2012/diffusion_noise_scheduling/Analysis%20notebook.ipynb#W6sZmlsZQ%3D%3D?line=8'>9</a>\u001b[0m     device\u001b[39m=\u001b[39m\u001b[39m\"\u001b[39m\u001b[39mcuda:0\u001b[39m\u001b[39m\"\u001b[39m,\n\u001b[1;32m     <a href='vscode-notebook-cell:/home/mikhail_2012/diffusion_noise_scheduling/Analysis%20notebook.ipynb#W6sZmlsZQ%3D%3D?line=9'>10</a>\u001b[0m     noise_cov\u001b[39m=\u001b[39mprogressive_noise,\n\u001b[1;32m     <a href='vscode-notebook-cell:/home/mikhail_2012/diffusion_noise_scheduling/Analysis%20notebook.ipynb#W6sZmlsZQ%3D%3D?line=10'>11</a>\u001b[0m     cross_att_dim\u001b[39m=\u001b[39m\u001b[39m4\u001b[39m,\n\u001b[1;32m     <a href='vscode-notebook-cell:/home/mikhail_2012/diffusion_noise_scheduling/Analysis%20notebook.ipynb#W6sZmlsZQ%3D%3D?line=11'>12</a>\u001b[0m     save_path\u001b[39m=\u001b[39m\u001b[39m\"\u001b[39m\u001b[39m./models/trained/basic_mnist/\u001b[39m\u001b[39m\"\u001b[39m\n\u001b[1;32m     <a href='vscode-notebook-cell:/home/mikhail_2012/diffusion_noise_scheduling/Analysis%20notebook.ipynb#W6sZmlsZQ%3D%3D?line=12'>13</a>\u001b[0m )\n",
      "\u001b[0;31mValueError\u001b[0m: too many values to unpack (expected 3)"
     ]
    }
   ],
   "source": [
    "losses_prog = train_simple_new(\n",
    "    model=model,\n",
    "    dataloader=MovMNIST_dataloader,\n",
    "    noise_scheduler=noise_scheduler,\n",
    "    optimizer=optimizer,\n",
    "    lr_scheduler=lr_scheduler,\n",
    "    criterion=criterion,\n",
    "    num_epochs=1,\n",
    "    device=\"cuda:0\",\n",
    "    noise_cov=progressive_noise,\n",
    "    cross_att_dim=4,\n",
    "    save_path=\"./models/trained/basic_mnist_prog_noise/\"\n",
    ")"
   ]
  },
  {
   "cell_type": "code",
   "execution_count": 12,
   "id": "1d79c627",
   "metadata": {},
   "outputs": [
    {
     "name": "stderr",
     "output_type": "stream",
     "text": [
      "100%|██████████| 100/100 [04:22<00:00,  2.62s/it]\n"
     ]
    }
   ],
   "source": [
    "model.load_state_dict(torch.load(\"./models/trained/basic_mnist_uncorr_noise/model_best.pt\"))\n",
    "\n",
    "vids = sample_videos(\n",
    "    model=model,\n",
    "    num_videos=4,\n",
    "    video_length=20,\n",
    "    noise_scheduler=noise_scheduler,\n",
    "    device=\"cuda:0\",\n",
    "    pic_size=(64, 64),\n",
    "    channel_num=1,\n",
    "    cross_att_dim=4,\n",
    "    noise_cov=mixed_noise,\n",
    "    # display_callback=draw_single_vid_frames,\n",
    "    # sample=sample.unsqueeze(0).cuda(),\n",
    ").detach().cpu()\n",
    "\n",
    "vids = ((vids.clamp(-1, 1) + 1) * 255 / 2).to(torch.uint8)"
   ]
  },
  {
   "cell_type": "code",
   "execution_count": 30,
   "id": "4f32a87c",
   "metadata": {},
   "outputs": [],
   "source": [
    "for i, v in enumerate((MovMNIST_dataset[:4][0] + 1) / 2 * 255):\n",
    "    write_video(f\"./results/MovMNIST/base_samples/{i}.mp4\", v.to(torch.uint8).repeat(3, 1, 1, 1).permute(1, 2, 3, 0), fps=7)"
   ]
  },
  {
   "cell_type": "code",
   "execution_count": 36,
   "id": "03cf87d2",
   "metadata": {},
   "outputs": [],
   "source": [
    "# noise_gen = NormalVideoNoise(cov_matrix = progressive_noise(20))\n",
    "# prompts = sin(arange(1, 20 + 1, device=\"cuda:0\").view(-1, 1) * arange(1, 4 + 1, device=\"cuda:0\")).tile(1).view(1, 20, -1)\n",
    "# sample = noise_gen.sample((1, 1, 20, 64, 64)).to(\"cuda:0\")\n",
    "# residual = model(sample, 99, prompts).sample[0].detach().cpu()\n",
    "# residual = ((residual.clamp(-1, 1) + 1) * 255 / 2).to(torch.uint8)\n",
    "\n",
    "write_video(f\"./results/MovMNIST/progressive_noise/test.mp4\", sample.repeat(3, 1, 1, 1).permute(1, 2, 3, 0), 7)"
   ]
  },
  {
   "cell_type": "code",
   "execution_count": 3,
   "id": "acb59432",
   "metadata": {
    "scrolled": true
   },
   "outputs": [
    {
     "data": {
      "text/plain": [
       "=============================================================================================================================\n",
       "Layer (type:depth-idx)                                                      Output Shape              Param #\n",
       "=============================================================================================================================\n",
       "UNet3DConditionModel                                                        [1, 3, 75, 240, 320]      --\n",
       "├─Timesteps: 1-1                                                            [1, 12]                   --\n",
       "├─TimestepEmbedding: 1-2                                                    [1, 48]                   2,352\n",
       "│    └─LoRACompatibleLinear: 2-1                                            [1, 48]                   624\n",
       "├─SiLU: 1-3                                                                 [1, 48]                   --\n",
       "├─TimestepEmbedding: 1-4                                                    --                        (recursive)\n",
       "│    └─LoRACompatibleLinear: 2-2                                            [1, 48]                   2,352\n",
       "├─Conv2d: 1-5                                                               [75, 12, 240, 320]        336\n",
       "├─TransformerTemporalModel: 1-6                                             [75, 12, 240, 320]        --\n",
       "│    └─GroupNorm: 2-3                                                       [1, 12, 75, 240, 320]     24\n",
       "│    └─Linear: 2-4                                                          [76800, 75, 64]           832\n",
       "│    └─ModuleList: 2-5                                                      --                        --\n",
       "│    │    └─BasicTransformerBlock: 3-1                                      [76800, 75, 64]           83,008\n",
       "│    └─Linear: 2-6                                                          [76800, 75, 12]           780\n",
       "├─ModuleList: 1-19                                                          --                        (recursive)\n",
       "│    └─DownBlock3D: 2-7                                                     [75, 12, 240, 320]        6,996\n",
       "│    │    └─ModuleList: 3-10                                                --                        (recursive)\n",
       "├─SiLU: 1-8                                                                 [75, 12, 240, 320]        --\n",
       "├─ModuleList: 1-19                                                          --                        (recursive)\n",
       "│    └─DownBlock3D: 2-13                                                    --                        (recursive)\n",
       "│    │    └─ModuleList: 3-10                                                --                        (recursive)\n",
       "├─SiLU: 1-10                                                                [75, 48]                  --\n",
       "├─ModuleList: 1-19                                                          --                        (recursive)\n",
       "│    └─DownBlock3D: 2-13                                                    --                        (recursive)\n",
       "│    │    └─ModuleList: 3-10                                                --                        (recursive)\n",
       "├─SiLU: 1-12                                                                [75, 12, 240, 320]        --\n",
       "├─ModuleList: 1-19                                                          --                        (recursive)\n",
       "│    └─DownBlock3D: 2-13                                                    --                        (recursive)\n",
       "│    │    └─ModuleList: 3-10                                                --                        (recursive)\n",
       "│    │    └─ModuleList: 3-11                                                --                        (recursive)\n",
       "│    │    └─ModuleList: 3-10                                                --                        (recursive)\n",
       "├─SiLU: 1-14                                                                [75, 12, 240, 320]        --\n",
       "├─ModuleList: 1-19                                                          --                        (recursive)\n",
       "│    └─DownBlock3D: 2-13                                                    --                        (recursive)\n",
       "│    │    └─ModuleList: 3-10                                                --                        (recursive)\n",
       "├─SiLU: 1-16                                                                [75, 48]                  --\n",
       "├─ModuleList: 1-19                                                          --                        (recursive)\n",
       "│    └─DownBlock3D: 2-13                                                    --                        (recursive)\n",
       "│    │    └─ModuleList: 3-10                                                --                        (recursive)\n",
       "├─SiLU: 1-18                                                                [75, 12, 240, 320]        --\n",
       "├─ModuleList: 1-19                                                          --                        (recursive)\n",
       "│    └─DownBlock3D: 2-13                                                    --                        (recursive)\n",
       "│    │    └─ModuleList: 3-10                                                --                        (recursive)\n",
       "│    │    └─ModuleList: 3-11                                                --                        (recursive)\n",
       "├─UNetMidBlock3DCrossAttn: 1-20                                             [75, 12, 240, 320]        10,556\n",
       "│    └─ModuleList: 2-24                                                     --                        (recursive)\n",
       "│    │    └─ResnetBlock2D: 3-12                                             [75, 12, 240, 320]        3,252\n",
       "├─SiLU: 1-21                                                                [75, 12, 240, 320]        --\n",
       "├─UNetMidBlock3DCrossAttn: 1-32                                             --                        (recursive)\n",
       "│    └─ModuleList: 2-24                                                     --                        (recursive)\n",
       "│    │    └─ResnetBlock2D: 3-15                                             --                        (recursive)\n",
       "├─SiLU: 1-23                                                                [75, 48]                  --\n",
       "├─UNetMidBlock3DCrossAttn: 1-32                                             --                        (recursive)\n",
       "│    └─ModuleList: 2-24                                                     --                        (recursive)\n",
       "│    │    └─ResnetBlock2D: 3-15                                             --                        (recursive)\n",
       "├─SiLU: 1-25                                                                [75, 12, 240, 320]        --\n",
       "├─UNetMidBlock3DCrossAttn: 1-32                                             --                        (recursive)\n",
       "│    └─ModuleList: 2-24                                                     --                        (recursive)\n",
       "│    │    └─ResnetBlock2D: 3-15                                             --                        (recursive)\n",
       "│    └─ModuleList: 2-25                                                     --                        (recursive)\n",
       "│    │    └─TemporalConvLayer: 3-16                                         [75, 12, 240, 320]        1,872\n",
       "│    └─ModuleList: 2-19                                                     --                        --\n",
       "│    │    └─Transformer2DModel: 3-17                                        [75, 12, 240, 320]        1,908\n",
       "│    └─ModuleList: 2-20                                                     --                        --\n",
       "│    │    └─TransformerTemporalModel: 3-18                                  [75, 12, 240, 320]        1,652\n",
       "│    └─ModuleList: 2-24                                                     --                        (recursive)\n",
       "│    │    └─ResnetBlock2D: 3-19                                             [75, 12, 240, 320]        3,252\n",
       "├─SiLU: 1-27                                                                [75, 12, 240, 320]        --\n",
       "├─UNetMidBlock3DCrossAttn: 1-32                                             --                        (recursive)\n",
       "│    └─ModuleList: 2-24                                                     --                        (recursive)\n",
       "│    │    └─ResnetBlock2D: 3-22                                             --                        (recursive)\n",
       "├─SiLU: 1-29                                                                [75, 48]                  --\n",
       "├─UNetMidBlock3DCrossAttn: 1-32                                             --                        (recursive)\n",
       "│    └─ModuleList: 2-24                                                     --                        (recursive)\n",
       "│    │    └─ResnetBlock2D: 3-22                                             --                        (recursive)\n",
       "├─SiLU: 1-31                                                                [75, 12, 240, 320]        --\n",
       "├─UNetMidBlock3DCrossAttn: 1-32                                             --                        (recursive)\n",
       "│    └─ModuleList: 2-24                                                     --                        (recursive)\n",
       "│    │    └─ResnetBlock2D: 3-22                                             --                        (recursive)\n",
       "│    └─ModuleList: 2-25                                                     --                        (recursive)\n",
       "│    │    └─TemporalConvLayer: 3-23                                         [75, 12, 240, 320]        1,872\n",
       "├─ModuleList: 1-51                                                          --                        (recursive)\n",
       "│    └─UpBlock3D: 2-26                                                      [75, 12, 240, 320]        15,360\n",
       "│    │    └─ModuleList: 3-37                                                --                        (recursive)\n",
       "├─SiLU: 1-34                                                                [75, 24, 240, 320]        --\n",
       "├─ModuleList: 1-51                                                          --                        (recursive)\n",
       "│    └─UpBlock3D: 2-35                                                      --                        (recursive)\n",
       "│    │    └─ModuleList: 3-37                                                --                        (recursive)\n",
       "├─SiLU: 1-36                                                                [75, 48]                  --\n",
       "├─ModuleList: 1-51                                                          --                        (recursive)\n",
       "│    └─UpBlock3D: 2-35                                                      --                        (recursive)\n",
       "│    │    └─ModuleList: 3-37                                                --                        (recursive)\n",
       "├─SiLU: 1-38                                                                [75, 12, 240, 320]        --\n",
       "├─ModuleList: 1-51                                                          --                        (recursive)\n",
       "│    └─UpBlock3D: 2-35                                                      --                        (recursive)\n",
       "│    │    └─ModuleList: 3-37                                                --                        (recursive)\n",
       "│    │    └─ModuleList: 3-38                                                --                        (recursive)\n",
       "│    │    └─ModuleList: 3-37                                                --                        (recursive)\n",
       "├─SiLU: 1-40                                                                [75, 24, 240, 320]        --\n",
       "├─ModuleList: 1-51                                                          --                        (recursive)\n",
       "│    └─UpBlock3D: 2-35                                                      --                        (recursive)\n",
       "│    │    └─ModuleList: 3-37                                                --                        (recursive)\n",
       "├─SiLU: 1-42                                                                [75, 48]                  --\n",
       "├─ModuleList: 1-51                                                          --                        (recursive)\n",
       "│    └─UpBlock3D: 2-35                                                      --                        (recursive)\n",
       "│    │    └─ModuleList: 3-37                                                --                        (recursive)\n",
       "├─SiLU: 1-44                                                                [75, 12, 240, 320]        --\n",
       "├─ModuleList: 1-51                                                          --                        (recursive)\n",
       "│    └─UpBlock3D: 2-35                                                      --                        (recursive)\n",
       "│    │    └─ModuleList: 3-37                                                --                        (recursive)\n",
       "│    │    └─ModuleList: 3-38                                                --                        (recursive)\n",
       "│    │    └─ModuleList: 3-37                                                --                        (recursive)\n",
       "├─SiLU: 1-46                                                                [75, 24, 240, 320]        --\n",
       "├─ModuleList: 1-51                                                          --                        (recursive)\n",
       "│    └─UpBlock3D: 2-35                                                      --                        (recursive)\n",
       "│    │    └─ModuleList: 3-37                                                --                        (recursive)\n",
       "├─SiLU: 1-48                                                                [75, 48]                  --\n",
       "├─ModuleList: 1-51                                                          --                        (recursive)\n",
       "│    └─UpBlock3D: 2-35                                                      --                        (recursive)\n",
       "│    │    └─ModuleList: 3-37                                                --                        (recursive)\n",
       "├─SiLU: 1-50                                                                [75, 12, 240, 320]        --\n",
       "├─ModuleList: 1-51                                                          --                        (recursive)\n",
       "│    └─UpBlock3D: 2-35                                                      --                        (recursive)\n",
       "│    │    └─ModuleList: 3-37                                                --                        (recursive)\n",
       "│    │    └─ModuleList: 3-38                                                --                        (recursive)\n",
       "├─GroupNorm: 1-52                                                           [75, 12, 240, 320]        24\n",
       "├─SiLU: 1-53                                                                [75, 12, 240, 320]        --\n",
       "├─Conv2d: 1-54                                                              [75, 3, 240, 320]         327\n",
       "=============================================================================================================================\n",
       "Total params: 195,243\n",
       "Trainable params: 195,243\n",
       "Non-trainable params: 0\n",
       "Total mult-adds (Units.GIGABYTES): 215.11\n",
       "=============================================================================================================================\n",
       "Input size (MB): 69.13\n",
       "Forward/backward pass size (MB): 131006.21\n",
       "Params size (MB): 0.53\n",
       "Estimated Total Size (MB): 131075.87\n",
       "============================================================================================================================="
      ]
     },
     "execution_count": 3,
     "metadata": {},
     "output_type": "execute_result"
    }
   ],
   "source": [
    "# torch.backends.cuda.enable_mem_efficient_sdp(False)\n",
    "# torch.backends.cuda.enable_flash_sdp(False)\n",
    "# torch.backends.cuda.enable_math_sdp(False)\n",
    "\n",
    "summary(\n",
    "    model,\n",
    "    input_data = {\n",
    "        \"sample\": torch.randn(1, 3, 75, 240, 320),\n",
    "        \"timestep\": 500,\n",
    "        \"encoder_hidden_states\": torch.ones(1, 75, 24) * 3.0,\n",
    "    }\n",
    ")"
   ]
  }
 ],
 "metadata": {
  "kernelspec": {
   "display_name": "Python 3 (ipykernel)",
   "language": "python",
   "name": "python3"
  },
  "language_info": {
   "codemirror_mode": {
    "name": "ipython",
    "version": 3
   },
   "file_extension": ".py",
   "mimetype": "text/x-python",
   "name": "python",
   "nbconvert_exporter": "python",
   "pygments_lexer": "ipython3",
   "version": "3.11.6"
  }
 },
 "nbformat": 4,
 "nbformat_minor": 5
}
