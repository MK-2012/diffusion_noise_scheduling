{
 "cells": [
  {
   "cell_type": "code",
   "execution_count": 1,
   "id": "67fe4880",
   "metadata": {},
   "outputs": [
    {
     "name": "stderr",
     "output_type": "stream",
     "text": [
      "/home/koltakovmi/.local/lib/python3.10/site-packages/diffusers/utils/outputs.py:63: UserWarning: torch.utils._pytree._register_pytree_node is deprecated. Please use torch.utils._pytree.register_pytree_node instead.\n",
      "  torch.utils._pytree._register_pytree_node(\n"
     ]
    }
   ],
   "source": [
    "import numpy as np\n",
    "import scipy.stats as sps\n",
    "from tqdm import tqdm\n",
    "from torchinfo import summary # DEBUG\n",
    "from functools import partial\n",
    "\n",
    "from utils.utils import *\n",
    "from utils.dataset_loaders import *\n",
    "from models.basic_models import *\n",
    "\n",
    "import torch\n",
    "from torch import nn\n",
    "from torch.utils.data import DataLoader\n",
    "from torchvision.io import write_video, write_png\n",
    "from diffusers import UNet3DConditionModel, DDPMScheduler, DDPMPipeline\n",
    "\n",
    "import matplotlib.pyplot as plt\n",
    "import seaborn as sns\n",
    "sns.set_theme(style=\"whitegrid\")"
   ]
  },
  {
   "cell_type": "code",
   "execution_count": 6,
   "id": "580790a3",
   "metadata": {},
   "outputs": [],
   "source": [
    "%reload_ext autoreload\n",
    "%autoreload 2"
   ]
  },
  {
   "cell_type": "markdown",
   "id": "e96b6dff",
   "metadata": {},
   "source": [
    "Creating dataset and dataloader for UCF-101 and MovingMNIST."
   ]
  },
  {
   "cell_type": "code",
   "execution_count": 2,
   "id": "cb5c4693",
   "metadata": {},
   "outputs": [],
   "source": [
    "# UCF_dataset = UCFDataset(\"./datasets/UCF-101/\")\n",
    "\n",
    "# UCF_dataloader = DataLoader(UCF_dataset, shuffle=True, batch_size=batch_size)\n",
    "\n",
    "MovMNIST_dataset = MovMNISTDataset(\"./datasets/moving_mnist.npy\")\n",
    "MovMNIST_dataloader = DataLoader(MovMNIST_dataset, shuffle=True, batch_size=2)\n",
    "\n",
    "MovMNIST_frame_dataset = MovMNISTFrameDataset(\"./datasets/moving_mnist.npy\")\n",
    "MovMNIST_frame_dataloader = DataLoader(MovMNIST_frame_dataset, shuffle=True, batch_size=96)"
   ]
  },
  {
   "cell_type": "code",
   "execution_count": 3,
   "id": "fa625426",
   "metadata": {},
   "outputs": [],
   "source": [
    "model_frame, noise_scheduler_frame, optimizer_frame, lr_scheduler_frame, criterion_frame = init_mov_mnist_model_frame(\n",
    "    lr_warmup_steps=100,\n",
    "    num_epochs=4,\n",
    "    beta_start=1.17e-3,\n",
    "    beta_end=1.88e-1,\n",
    "    object_cnt = len(MovMNIST_frame_dataloader),\n",
    "    device=\"cuda:0\",\n",
    ")"
   ]
  },
  {
   "cell_type": "code",
   "execution_count": 3,
   "id": "f6edd218",
   "metadata": {},
   "outputs": [],
   "source": [
    "model_video, noise_scheduler_video, optimizer_video, lr_scheduler_video, criterion_video = init_mov_mnist_model(\n",
    "    lr_warmup_steps=100,\n",
    "    num_epochs=4,\n",
    "    beta_start=1.17e-3,\n",
    "    beta_end=1.88e-1,\n",
    "    object_cnt = len(MovMNIST_dataloader),\n",
    "    device=\"cuda:1\",\n",
    ")"
   ]
  },
  {
   "cell_type": "code",
   "execution_count": 4,
   "id": "af1a03a5",
   "metadata": {},
   "outputs": [
    {
     "name": "stderr",
     "output_type": "stream",
     "text": [
      "  0%|                                                                                                                                                                                                                                 | 0/2084 [00:00<?, ?it/s]"
     ]
    },
    {
     "name": "stderr",
     "output_type": "stream",
     "text": [
      " 13%|█████████████████████████▊                                                                                                                                                                                | 266/2084 [22:50<2:35:09,  5.12s/it, MSE=0.016]"
     ]
    }
   ],
   "source": [
    "trainer = TrainableDiffusionModel(\n",
    "    model_ref = model_frame,\n",
    "    optimizer_ref = optimizer_frame,\n",
    "    lr_scheduler_ref=lr_scheduler_frame,\n",
    "    noise_scheduler = noise_scheduler_frame,\n",
    "    criterion = criterion_frame,\n",
    "    device=\"cuda:1\",\n",
    "    model_type=\"image\",\n",
    "    cross_att_dim=4,\n",
    "    EMA_start=2500,\n",
    ")\n",
    "\n",
    "test_losses = trainer.fit(\n",
    "    dataloader = MovMNIST_frame_dataloader,\n",
    "    save_path = \"./models/trained/mov_mnist_frames_batch96/\",\n",
    "    num_epochs = 4,\n",
    ")"
   ]
  },
  {
   "cell_type": "code",
   "execution_count": 4,
   "id": "9c100056",
   "metadata": {},
   "outputs": [
    {
     "name": "stderr",
     "output_type": "stream",
     "text": [
      "  0%|▏                                                                                                                                                                                                                                       | 4/5000 [00:23<8:02:58,  5.80s/it, MSE=0.878]\n"
     ]
    },
    {
     "ename": "KeyboardInterrupt",
     "evalue": "",
     "output_type": "error",
     "traceback": [
      "\u001b[0;31m---------------------------------------------------------------------------\u001b[0m",
      "\u001b[0;31mKeyboardInterrupt\u001b[0m                         Traceback (most recent call last)",
      "\u001b[1;32m/home/koltakovmi/diffusion_noise_scheduling/Analysis notebook.ipynb Cell 8\u001b[0m line \u001b[0;36m1\n\u001b[1;32m      <a href='vscode-notebook-cell://ssh-remote%2Balmaren/home/koltakovmi/diffusion_noise_scheduling/Analysis%20notebook.ipynb#X32sdnNjb2RlLXJlbW90ZQ%3D%3D?line=0'>1</a>\u001b[0m trainer \u001b[39m=\u001b[39m TrainableDiffusionModel(\n\u001b[1;32m      <a href='vscode-notebook-cell://ssh-remote%2Balmaren/home/koltakovmi/diffusion_noise_scheduling/Analysis%20notebook.ipynb#X32sdnNjb2RlLXJlbW90ZQ%3D%3D?line=1'>2</a>\u001b[0m     model_ref \u001b[39m=\u001b[39m model_video,\n\u001b[1;32m      <a href='vscode-notebook-cell://ssh-remote%2Balmaren/home/koltakovmi/diffusion_noise_scheduling/Analysis%20notebook.ipynb#X32sdnNjb2RlLXJlbW90ZQ%3D%3D?line=2'>3</a>\u001b[0m     optimizer_ref \u001b[39m=\u001b[39m optimizer_video,\n\u001b[0;32m   (...)\u001b[0m\n\u001b[1;32m     <a href='vscode-notebook-cell://ssh-remote%2Balmaren/home/koltakovmi/diffusion_noise_scheduling/Analysis%20notebook.ipynb#X32sdnNjb2RlLXJlbW90ZQ%3D%3D?line=9'>10</a>\u001b[0m     EMA_start\u001b[39m=\u001b[39m\u001b[39m500\u001b[39m,\n\u001b[1;32m     <a href='vscode-notebook-cell://ssh-remote%2Balmaren/home/koltakovmi/diffusion_noise_scheduling/Analysis%20notebook.ipynb#X32sdnNjb2RlLXJlbW90ZQ%3D%3D?line=10'>11</a>\u001b[0m )\n\u001b[0;32m---> <a href='vscode-notebook-cell://ssh-remote%2Balmaren/home/koltakovmi/diffusion_noise_scheduling/Analysis%20notebook.ipynb#X32sdnNjb2RlLXJlbW90ZQ%3D%3D?line=12'>13</a>\u001b[0m test_losses \u001b[39m=\u001b[39m trainer\u001b[39m.\u001b[39;49mfit(\n\u001b[1;32m     <a href='vscode-notebook-cell://ssh-remote%2Balmaren/home/koltakovmi/diffusion_noise_scheduling/Analysis%20notebook.ipynb#X32sdnNjb2RlLXJlbW90ZQ%3D%3D?line=13'>14</a>\u001b[0m     dataloader \u001b[39m=\u001b[39;49m MovMNIST_dataloader,\n\u001b[1;32m     <a href='vscode-notebook-cell://ssh-remote%2Balmaren/home/koltakovmi/diffusion_noise_scheduling/Analysis%20notebook.ipynb#X32sdnNjb2RlLXJlbW90ZQ%3D%3D?line=14'>15</a>\u001b[0m     save_path \u001b[39m=\u001b[39;49m \u001b[39m\"\u001b[39;49m\u001b[39m./models/trained/test/\u001b[39;49m\u001b[39m\"\u001b[39;49m,\n\u001b[1;32m     <a href='vscode-notebook-cell://ssh-remote%2Balmaren/home/koltakovmi/diffusion_noise_scheduling/Analysis%20notebook.ipynb#X32sdnNjb2RlLXJlbW90ZQ%3D%3D?line=15'>16</a>\u001b[0m     num_epochs \u001b[39m=\u001b[39;49m \u001b[39m4\u001b[39;49m,\n\u001b[1;32m     <a href='vscode-notebook-cell://ssh-remote%2Balmaren/home/koltakovmi/diffusion_noise_scheduling/Analysis%20notebook.ipynb#X32sdnNjb2RlLXJlbW90ZQ%3D%3D?line=16'>17</a>\u001b[0m )\n",
      "File \u001b[0;32m~/diplom/utils/utils.py:258\u001b[0m, in \u001b[0;36mTrainableDiffusionModel.fit\u001b[0;34m(self, dataloader, save_path, num_epochs, end_processor)\u001b[0m\n\u001b[1;32m    254\u001b[0m end_proc \u001b[39m=\u001b[39m end_processor(model_ref \u001b[39m=\u001b[39m \u001b[39mself\u001b[39m\u001b[39m.\u001b[39mmodel_ref, optimizer_ref \u001b[39m=\u001b[39m \u001b[39mself\u001b[39m\u001b[39m.\u001b[39moptimizer_ref, save_path\u001b[39m=\u001b[39msave_path,\n\u001b[1;32m    255\u001b[0m \t\t\t\t\t\t lr_scheduler_ref\u001b[39m=\u001b[39m\u001b[39mself\u001b[39m\u001b[39m.\u001b[39mlr_scheduler_ref)\n\u001b[1;32m    257\u001b[0m \u001b[39mfor\u001b[39;00m _ \u001b[39min\u001b[39;00m \u001b[39mrange\u001b[39m(num_epochs):\n\u001b[0;32m--> 258\u001b[0m \tnew_losses \u001b[39m=\u001b[39m \u001b[39mself\u001b[39;49m\u001b[39m.\u001b[39;49m_one_epoch(dataloader, end_proc)\n\u001b[1;32m    259\u001b[0m \tlosses \u001b[39m=\u001b[39m cat([losses, as_tensor(new_losses)\u001b[39m.\u001b[39munsqueeze(\u001b[39m0\u001b[39m)], dim\u001b[39m=\u001b[39m\u001b[39m0\u001b[39m)\n\u001b[1;32m    261\u001b[0m \u001b[39mreturn\u001b[39;00m losses\n",
      "File \u001b[0;32m~/diplom/utils/utils.py:242\u001b[0m, in \u001b[0;36mTrainableDiffusionModel._one_epoch\u001b[0;34m(self, dataloader, end_processor)\u001b[0m\n\u001b[1;32m    240\u001b[0m \u001b[39mfor\u001b[39;00m i, (batch, labels) \u001b[39min\u001b[39;00m \u001b[39menumerate\u001b[39m(pbar):\n\u001b[1;32m    241\u001b[0m \tbatch \u001b[39m=\u001b[39m batch\u001b[39m.\u001b[39mto(\u001b[39mself\u001b[39m\u001b[39m.\u001b[39mdevice)\n\u001b[0;32m--> 242\u001b[0m \tnoise, predicted_noise \u001b[39m=\u001b[39m \u001b[39mself\u001b[39;49m\u001b[39m.\u001b[39;49m_train_step(batch)\n\u001b[1;32m    244\u001b[0m \tloss \u001b[39m=\u001b[39m \u001b[39mself\u001b[39m\u001b[39m.\u001b[39mcriterion(noise, predicted_noise)\n\u001b[1;32m    245\u001b[0m \tend_processor(loss)\n",
      "File \u001b[0;32m~/diplom/utils/utils.py:230\u001b[0m, in \u001b[0;36mTrainableDiffusionModel._train_step\u001b[0;34m(self, batch)\u001b[0m\n\u001b[1;32m    228\u001b[0m noised_videos \u001b[39m=\u001b[39m \u001b[39mself\u001b[39m\u001b[39m.\u001b[39mnoise_scheduler\u001b[39m.\u001b[39madd_noise(batch, noise, steps)\n\u001b[1;32m    229\u001b[0m hidden_states_encs \u001b[39m=\u001b[39m \u001b[39mself\u001b[39m\u001b[39m.\u001b[39m_sin_embeddings(batch\u001b[39m.\u001b[39mshape)\n\u001b[0;32m--> 230\u001b[0m \u001b[39mreturn\u001b[39;00m noise, \u001b[39mself\u001b[39;49m\u001b[39m.\u001b[39;49mmodel_ref(\n\u001b[1;32m    231\u001b[0m \t\t\tnoised_videos,\n\u001b[1;32m    232\u001b[0m \t\t\tsteps,\n\u001b[1;32m    233\u001b[0m \t\t\thidden_states_encs,\n\u001b[1;32m    234\u001b[0m \t\t)\u001b[39m.\u001b[39msample\n",
      "File \u001b[0;32m~/.local/lib/python3.10/site-packages/torch/nn/modules/module.py:1511\u001b[0m, in \u001b[0;36mModule._wrapped_call_impl\u001b[0;34m(self, *args, **kwargs)\u001b[0m\n\u001b[1;32m   1509\u001b[0m     \u001b[39mreturn\u001b[39;00m \u001b[39mself\u001b[39m\u001b[39m.\u001b[39m_compiled_call_impl(\u001b[39m*\u001b[39margs, \u001b[39m*\u001b[39m\u001b[39m*\u001b[39mkwargs)  \u001b[39m# type: ignore[misc]\u001b[39;00m\n\u001b[1;32m   1510\u001b[0m \u001b[39melse\u001b[39;00m:\n\u001b[0;32m-> 1511\u001b[0m     \u001b[39mreturn\u001b[39;00m \u001b[39mself\u001b[39;49m\u001b[39m.\u001b[39;49m_call_impl(\u001b[39m*\u001b[39;49margs, \u001b[39m*\u001b[39;49m\u001b[39m*\u001b[39;49mkwargs)\n",
      "File \u001b[0;32m~/.local/lib/python3.10/site-packages/torch/nn/modules/module.py:1520\u001b[0m, in \u001b[0;36mModule._call_impl\u001b[0;34m(self, *args, **kwargs)\u001b[0m\n\u001b[1;32m   1515\u001b[0m \u001b[39m# If we don't have any hooks, we want to skip the rest of the logic in\u001b[39;00m\n\u001b[1;32m   1516\u001b[0m \u001b[39m# this function, and just call forward.\u001b[39;00m\n\u001b[1;32m   1517\u001b[0m \u001b[39mif\u001b[39;00m \u001b[39mnot\u001b[39;00m (\u001b[39mself\u001b[39m\u001b[39m.\u001b[39m_backward_hooks \u001b[39mor\u001b[39;00m \u001b[39mself\u001b[39m\u001b[39m.\u001b[39m_backward_pre_hooks \u001b[39mor\u001b[39;00m \u001b[39mself\u001b[39m\u001b[39m.\u001b[39m_forward_hooks \u001b[39mor\u001b[39;00m \u001b[39mself\u001b[39m\u001b[39m.\u001b[39m_forward_pre_hooks\n\u001b[1;32m   1518\u001b[0m         \u001b[39mor\u001b[39;00m _global_backward_pre_hooks \u001b[39mor\u001b[39;00m _global_backward_hooks\n\u001b[1;32m   1519\u001b[0m         \u001b[39mor\u001b[39;00m _global_forward_hooks \u001b[39mor\u001b[39;00m _global_forward_pre_hooks):\n\u001b[0;32m-> 1520\u001b[0m     \u001b[39mreturn\u001b[39;00m forward_call(\u001b[39m*\u001b[39;49margs, \u001b[39m*\u001b[39;49m\u001b[39m*\u001b[39;49mkwargs)\n\u001b[1;32m   1522\u001b[0m \u001b[39mtry\u001b[39;00m:\n\u001b[1;32m   1523\u001b[0m     result \u001b[39m=\u001b[39m \u001b[39mNone\u001b[39;00m\n",
      "File \u001b[0;32m~/.local/lib/python3.10/site-packages/diffusers/models/unets/unet_3d_condition.py:693\u001b[0m, in \u001b[0;36mUNet3DConditionModel.forward\u001b[0;34m(self, sample, timestep, encoder_hidden_states, class_labels, timestep_cond, attention_mask, cross_attention_kwargs, down_block_additional_residuals, mid_block_additional_residual, return_dict)\u001b[0m\n\u001b[1;32m    682\u001b[0m         sample \u001b[39m=\u001b[39m upsample_block(\n\u001b[1;32m    683\u001b[0m             hidden_states\u001b[39m=\u001b[39msample,\n\u001b[1;32m    684\u001b[0m             temb\u001b[39m=\u001b[39memb,\n\u001b[0;32m   (...)\u001b[0m\n\u001b[1;32m    690\u001b[0m             cross_attention_kwargs\u001b[39m=\u001b[39mcross_attention_kwargs,\n\u001b[1;32m    691\u001b[0m         )\n\u001b[1;32m    692\u001b[0m     \u001b[39melse\u001b[39;00m:\n\u001b[0;32m--> 693\u001b[0m         sample \u001b[39m=\u001b[39m upsample_block(\n\u001b[1;32m    694\u001b[0m             hidden_states\u001b[39m=\u001b[39;49msample,\n\u001b[1;32m    695\u001b[0m             temb\u001b[39m=\u001b[39;49memb,\n\u001b[1;32m    696\u001b[0m             res_hidden_states_tuple\u001b[39m=\u001b[39;49mres_samples,\n\u001b[1;32m    697\u001b[0m             upsample_size\u001b[39m=\u001b[39;49mupsample_size,\n\u001b[1;32m    698\u001b[0m             num_frames\u001b[39m=\u001b[39;49mnum_frames,\n\u001b[1;32m    699\u001b[0m         )\n\u001b[1;32m    701\u001b[0m \u001b[39m# 6. post-process\u001b[39;00m\n\u001b[1;32m    702\u001b[0m \u001b[39mif\u001b[39;00m \u001b[39mself\u001b[39m\u001b[39m.\u001b[39mconv_norm_out:\n",
      "File \u001b[0;32m~/.local/lib/python3.10/site-packages/torch/nn/modules/module.py:1511\u001b[0m, in \u001b[0;36mModule._wrapped_call_impl\u001b[0;34m(self, *args, **kwargs)\u001b[0m\n\u001b[1;32m   1509\u001b[0m     \u001b[39mreturn\u001b[39;00m \u001b[39mself\u001b[39m\u001b[39m.\u001b[39m_compiled_call_impl(\u001b[39m*\u001b[39margs, \u001b[39m*\u001b[39m\u001b[39m*\u001b[39mkwargs)  \u001b[39m# type: ignore[misc]\u001b[39;00m\n\u001b[1;32m   1510\u001b[0m \u001b[39melse\u001b[39;00m:\n\u001b[0;32m-> 1511\u001b[0m     \u001b[39mreturn\u001b[39;00m \u001b[39mself\u001b[39;49m\u001b[39m.\u001b[39;49m_call_impl(\u001b[39m*\u001b[39;49margs, \u001b[39m*\u001b[39;49m\u001b[39m*\u001b[39;49mkwargs)\n",
      "File \u001b[0;32m~/.local/lib/python3.10/site-packages/torch/nn/modules/module.py:1520\u001b[0m, in \u001b[0;36mModule._call_impl\u001b[0;34m(self, *args, **kwargs)\u001b[0m\n\u001b[1;32m   1515\u001b[0m \u001b[39m# If we don't have any hooks, we want to skip the rest of the logic in\u001b[39;00m\n\u001b[1;32m   1516\u001b[0m \u001b[39m# this function, and just call forward.\u001b[39;00m\n\u001b[1;32m   1517\u001b[0m \u001b[39mif\u001b[39;00m \u001b[39mnot\u001b[39;00m (\u001b[39mself\u001b[39m\u001b[39m.\u001b[39m_backward_hooks \u001b[39mor\u001b[39;00m \u001b[39mself\u001b[39m\u001b[39m.\u001b[39m_backward_pre_hooks \u001b[39mor\u001b[39;00m \u001b[39mself\u001b[39m\u001b[39m.\u001b[39m_forward_hooks \u001b[39mor\u001b[39;00m \u001b[39mself\u001b[39m\u001b[39m.\u001b[39m_forward_pre_hooks\n\u001b[1;32m   1518\u001b[0m         \u001b[39mor\u001b[39;00m _global_backward_pre_hooks \u001b[39mor\u001b[39;00m _global_backward_hooks\n\u001b[1;32m   1519\u001b[0m         \u001b[39mor\u001b[39;00m _global_forward_hooks \u001b[39mor\u001b[39;00m _global_forward_pre_hooks):\n\u001b[0;32m-> 1520\u001b[0m     \u001b[39mreturn\u001b[39;00m forward_call(\u001b[39m*\u001b[39;49margs, \u001b[39m*\u001b[39;49m\u001b[39m*\u001b[39;49mkwargs)\n\u001b[1;32m   1522\u001b[0m \u001b[39mtry\u001b[39;00m:\n\u001b[1;32m   1523\u001b[0m     result \u001b[39m=\u001b[39m \u001b[39mNone\u001b[39;00m\n",
      "File \u001b[0;32m~/.local/lib/python3.10/site-packages/diffusers/models/unets/unet_3d_blocks.py:920\u001b[0m, in \u001b[0;36mUpBlock3D.forward\u001b[0;34m(self, hidden_states, res_hidden_states_tuple, temb, upsample_size, num_frames)\u001b[0m\n\u001b[1;32m    908\u001b[0m         hidden_states, res_hidden_states \u001b[39m=\u001b[39m apply_freeu(\n\u001b[1;32m    909\u001b[0m             \u001b[39mself\u001b[39m\u001b[39m.\u001b[39mresolution_idx,\n\u001b[1;32m    910\u001b[0m             hidden_states,\n\u001b[0;32m   (...)\u001b[0m\n\u001b[1;32m    915\u001b[0m             b2\u001b[39m=\u001b[39m\u001b[39mself\u001b[39m\u001b[39m.\u001b[39mb2,\n\u001b[1;32m    916\u001b[0m         )\n\u001b[1;32m    918\u001b[0m     hidden_states \u001b[39m=\u001b[39m torch\u001b[39m.\u001b[39mcat([hidden_states, res_hidden_states], dim\u001b[39m=\u001b[39m\u001b[39m1\u001b[39m)\n\u001b[0;32m--> 920\u001b[0m     hidden_states \u001b[39m=\u001b[39m resnet(hidden_states, temb)\n\u001b[1;32m    921\u001b[0m     hidden_states \u001b[39m=\u001b[39m temp_conv(hidden_states, num_frames\u001b[39m=\u001b[39mnum_frames)\n\u001b[1;32m    923\u001b[0m \u001b[39mif\u001b[39;00m \u001b[39mself\u001b[39m\u001b[39m.\u001b[39mupsamplers \u001b[39mis\u001b[39;00m \u001b[39mnot\u001b[39;00m \u001b[39mNone\u001b[39;00m:\n",
      "File \u001b[0;32m~/.local/lib/python3.10/site-packages/torch/nn/modules/module.py:1511\u001b[0m, in \u001b[0;36mModule._wrapped_call_impl\u001b[0;34m(self, *args, **kwargs)\u001b[0m\n\u001b[1;32m   1509\u001b[0m     \u001b[39mreturn\u001b[39;00m \u001b[39mself\u001b[39m\u001b[39m.\u001b[39m_compiled_call_impl(\u001b[39m*\u001b[39margs, \u001b[39m*\u001b[39m\u001b[39m*\u001b[39mkwargs)  \u001b[39m# type: ignore[misc]\u001b[39;00m\n\u001b[1;32m   1510\u001b[0m \u001b[39melse\u001b[39;00m:\n\u001b[0;32m-> 1511\u001b[0m     \u001b[39mreturn\u001b[39;00m \u001b[39mself\u001b[39;49m\u001b[39m.\u001b[39;49m_call_impl(\u001b[39m*\u001b[39;49margs, \u001b[39m*\u001b[39;49m\u001b[39m*\u001b[39;49mkwargs)\n",
      "File \u001b[0;32m~/.local/lib/python3.10/site-packages/torch/nn/modules/module.py:1520\u001b[0m, in \u001b[0;36mModule._call_impl\u001b[0;34m(self, *args, **kwargs)\u001b[0m\n\u001b[1;32m   1515\u001b[0m \u001b[39m# If we don't have any hooks, we want to skip the rest of the logic in\u001b[39;00m\n\u001b[1;32m   1516\u001b[0m \u001b[39m# this function, and just call forward.\u001b[39;00m\n\u001b[1;32m   1517\u001b[0m \u001b[39mif\u001b[39;00m \u001b[39mnot\u001b[39;00m (\u001b[39mself\u001b[39m\u001b[39m.\u001b[39m_backward_hooks \u001b[39mor\u001b[39;00m \u001b[39mself\u001b[39m\u001b[39m.\u001b[39m_backward_pre_hooks \u001b[39mor\u001b[39;00m \u001b[39mself\u001b[39m\u001b[39m.\u001b[39m_forward_hooks \u001b[39mor\u001b[39;00m \u001b[39mself\u001b[39m\u001b[39m.\u001b[39m_forward_pre_hooks\n\u001b[1;32m   1518\u001b[0m         \u001b[39mor\u001b[39;00m _global_backward_pre_hooks \u001b[39mor\u001b[39;00m _global_backward_hooks\n\u001b[1;32m   1519\u001b[0m         \u001b[39mor\u001b[39;00m _global_forward_hooks \u001b[39mor\u001b[39;00m _global_forward_pre_hooks):\n\u001b[0;32m-> 1520\u001b[0m     \u001b[39mreturn\u001b[39;00m forward_call(\u001b[39m*\u001b[39;49margs, \u001b[39m*\u001b[39;49m\u001b[39m*\u001b[39;49mkwargs)\n\u001b[1;32m   1522\u001b[0m \u001b[39mtry\u001b[39;00m:\n\u001b[1;32m   1523\u001b[0m     result \u001b[39m=\u001b[39m \u001b[39mNone\u001b[39;00m\n",
      "\u001b[0;31mKeyboardInterrupt\u001b[0m: "
     ]
    }
   ],
   "source": [
    "trainer = TrainableDiffusionModel(\n",
    "    model_ref = model_video,\n",
    "    optimizer_ref = optimizer_video,\n",
    "    lr_scheduler_ref=lr_scheduler_video,\n",
    "    noise_scheduler = noise_scheduler_video,\n",
    "    criterion = criterion_video,\n",
    "    device=\"cuda:1\",\n",
    "    model_type=\"video\",\n",
    "    cross_att_dim=4,\n",
    "    EMA_start=7500,\n",
    ")\n",
    "\n",
    "test_losses = trainer.fit(\n",
    "    dataloader = MovMNIST_dataloader,\n",
    "    save_path = \"./models/trained/test/\",\n",
    "    num_epochs = 4,\n",
    ")"
   ]
  },
  {
   "cell_type": "code",
   "execution_count": 8,
   "id": "55f22bb8",
   "metadata": {},
   "outputs": [
    {
     "name": "stderr",
     "output_type": "stream",
     "text": [
      " 29%|██████████████████████████████████████████████████████████████████▍                                                                                                                                                                  | 29/100 [00:03<00:08,  8.85it/s]\n"
     ]
    },
    {
     "ename": "KeyboardInterrupt",
     "evalue": "",
     "output_type": "error",
     "traceback": [
      "\u001b[0;31m---------------------------------------------------------------------------\u001b[0m",
      "\u001b[0;31mKeyboardInterrupt\u001b[0m                         Traceback (most recent call last)",
      "\u001b[1;32m/home/koltakovmi/diffusion_noise_scheduling/Analysis notebook.ipynb Cell 9\u001b[0m line \u001b[0;36m1\n\u001b[1;32m      <a href='vscode-notebook-cell://ssh-remote%2Balmaren/home/koltakovmi/diffusion_noise_scheduling/Analysis%20notebook.ipynb#X30sdnNjb2RlLXJlbW90ZQ%3D%3D?line=0'>1</a>\u001b[0m sampler \u001b[39m=\u001b[39m TrainableDiffusionModel(\n\u001b[1;32m      <a href='vscode-notebook-cell://ssh-remote%2Balmaren/home/koltakovmi/diffusion_noise_scheduling/Analysis%20notebook.ipynb#X30sdnNjb2RlLXJlbW90ZQ%3D%3D?line=1'>2</a>\u001b[0m     model_ref \u001b[39m=\u001b[39m model_frame,\n\u001b[1;32m      <a href='vscode-notebook-cell://ssh-remote%2Balmaren/home/koltakovmi/diffusion_noise_scheduling/Analysis%20notebook.ipynb#X30sdnNjb2RlLXJlbW90ZQ%3D%3D?line=2'>3</a>\u001b[0m     optimizer_ref \u001b[39m=\u001b[39m optimizer_frame,\n\u001b[0;32m   (...)\u001b[0m\n\u001b[1;32m     <a href='vscode-notebook-cell://ssh-remote%2Balmaren/home/koltakovmi/diffusion_noise_scheduling/Analysis%20notebook.ipynb#X30sdnNjb2RlLXJlbW90ZQ%3D%3D?line=9'>10</a>\u001b[0m     EMA_start\u001b[39m=\u001b[39m\u001b[39m0\u001b[39m,\n\u001b[1;32m     <a href='vscode-notebook-cell://ssh-remote%2Balmaren/home/koltakovmi/diffusion_noise_scheduling/Analysis%20notebook.ipynb#X30sdnNjb2RlLXJlbW90ZQ%3D%3D?line=10'>11</a>\u001b[0m )\n\u001b[1;32m     <a href='vscode-notebook-cell://ssh-remote%2Balmaren/home/koltakovmi/diffusion_noise_scheduling/Analysis%20notebook.ipynb#X30sdnNjb2RlLXJlbW90ZQ%3D%3D?line=12'>13</a>\u001b[0m sampler\u001b[39m.\u001b[39mload_state(base_dir_path\u001b[39m=\u001b[39m\u001b[39m\"\u001b[39m\u001b[39m./models/trained/mov_mnist_frames_batch96/\u001b[39m\u001b[39m\"\u001b[39m, suffix\u001b[39m=\u001b[39m\u001b[39m\"\u001b[39m\u001b[39m8000\u001b[39m\u001b[39m\"\u001b[39m,\n\u001b[1;32m     <a href='vscode-notebook-cell://ssh-remote%2Balmaren/home/koltakovmi/diffusion_noise_scheduling/Analysis%20notebook.ipynb#X30sdnNjb2RlLXJlbW90ZQ%3D%3D?line=13'>14</a>\u001b[0m                    load_optimizer\u001b[39m=\u001b[39m\u001b[39mFalse\u001b[39;00m, load_lr_sched\u001b[39m=\u001b[39m\u001b[39mFalse\u001b[39;00m)\n\u001b[0;32m---> <a href='vscode-notebook-cell://ssh-remote%2Balmaren/home/koltakovmi/diffusion_noise_scheduling/Analysis%20notebook.ipynb#X30sdnNjb2RlLXJlbW90ZQ%3D%3D?line=14'>15</a>\u001b[0m images \u001b[39m=\u001b[39m sampler\u001b[39m.\u001b[39;49msample(num_samples\u001b[39m=\u001b[39;49m\u001b[39m8\u001b[39;49m)\n",
      "File \u001b[0;32m~/diffusion_noise_scheduling/utils/utils.py:290\u001b[0m, in \u001b[0;36mTrainableDiffusionModel.sample\u001b[0;34m(self, num_samples, prompts, pic_size, num_channels, video_length)\u001b[0m\n\u001b[1;32m    288\u001b[0m \t\u001b[39melse\u001b[39;00m:\n\u001b[1;32m    289\u001b[0m \t\t\u001b[39mfor\u001b[39;00m t \u001b[39min\u001b[39;00m tqdm(\u001b[39mself\u001b[39m\u001b[39m.\u001b[39mnoise_scheduler\u001b[39m.\u001b[39mtimesteps):\n\u001b[0;32m--> 290\u001b[0m \t\t\tresidual \u001b[39m=\u001b[39m \u001b[39mself\u001b[39;49m\u001b[39m.\u001b[39;49mmodel_ref(sample, t, prompts)\u001b[39m.\u001b[39msample\n\u001b[1;32m    291\u001b[0m \t\t\tsample \u001b[39m=\u001b[39m \u001b[39mself\u001b[39m\u001b[39m.\u001b[39mnoise_scheduler\u001b[39m.\u001b[39mstep(model_output\u001b[39m=\u001b[39mresidual, timestep\u001b[39m=\u001b[39mt, sample\u001b[39m=\u001b[39msample)\u001b[39m.\u001b[39mprev_sample\n\u001b[1;32m    293\u001b[0m \u001b[39mreturn\u001b[39;00m ((sample\u001b[39m.\u001b[39mdetach()\u001b[39m.\u001b[39mcpu()\u001b[39m.\u001b[39mclamp(\u001b[39m-\u001b[39m\u001b[39m1\u001b[39m, \u001b[39m1\u001b[39m) \u001b[39m+\u001b[39m \u001b[39m1\u001b[39m) \u001b[39m/\u001b[39m \u001b[39m2\u001b[39m \u001b[39m*\u001b[39m \u001b[39m255\u001b[39m)\u001b[39m.\u001b[39mto(uint8)\n",
      "File \u001b[0;32m~/.local/lib/python3.10/site-packages/torch/nn/modules/module.py:1511\u001b[0m, in \u001b[0;36mModule._wrapped_call_impl\u001b[0;34m(self, *args, **kwargs)\u001b[0m\n\u001b[1;32m   1509\u001b[0m     \u001b[39mreturn\u001b[39;00m \u001b[39mself\u001b[39m\u001b[39m.\u001b[39m_compiled_call_impl(\u001b[39m*\u001b[39margs, \u001b[39m*\u001b[39m\u001b[39m*\u001b[39mkwargs)  \u001b[39m# type: ignore[misc]\u001b[39;00m\n\u001b[1;32m   1510\u001b[0m \u001b[39melse\u001b[39;00m:\n\u001b[0;32m-> 1511\u001b[0m     \u001b[39mreturn\u001b[39;00m \u001b[39mself\u001b[39;49m\u001b[39m.\u001b[39;49m_call_impl(\u001b[39m*\u001b[39;49margs, \u001b[39m*\u001b[39;49m\u001b[39m*\u001b[39;49mkwargs)\n",
      "File \u001b[0;32m~/.local/lib/python3.10/site-packages/torch/nn/modules/module.py:1520\u001b[0m, in \u001b[0;36mModule._call_impl\u001b[0;34m(self, *args, **kwargs)\u001b[0m\n\u001b[1;32m   1515\u001b[0m \u001b[39m# If we don't have any hooks, we want to skip the rest of the logic in\u001b[39;00m\n\u001b[1;32m   1516\u001b[0m \u001b[39m# this function, and just call forward.\u001b[39;00m\n\u001b[1;32m   1517\u001b[0m \u001b[39mif\u001b[39;00m \u001b[39mnot\u001b[39;00m (\u001b[39mself\u001b[39m\u001b[39m.\u001b[39m_backward_hooks \u001b[39mor\u001b[39;00m \u001b[39mself\u001b[39m\u001b[39m.\u001b[39m_backward_pre_hooks \u001b[39mor\u001b[39;00m \u001b[39mself\u001b[39m\u001b[39m.\u001b[39m_forward_hooks \u001b[39mor\u001b[39;00m \u001b[39mself\u001b[39m\u001b[39m.\u001b[39m_forward_pre_hooks\n\u001b[1;32m   1518\u001b[0m         \u001b[39mor\u001b[39;00m _global_backward_pre_hooks \u001b[39mor\u001b[39;00m _global_backward_hooks\n\u001b[1;32m   1519\u001b[0m         \u001b[39mor\u001b[39;00m _global_forward_hooks \u001b[39mor\u001b[39;00m _global_forward_pre_hooks):\n\u001b[0;32m-> 1520\u001b[0m     \u001b[39mreturn\u001b[39;00m forward_call(\u001b[39m*\u001b[39;49margs, \u001b[39m*\u001b[39;49m\u001b[39m*\u001b[39;49mkwargs)\n\u001b[1;32m   1522\u001b[0m \u001b[39mtry\u001b[39;00m:\n\u001b[1;32m   1523\u001b[0m     result \u001b[39m=\u001b[39m \u001b[39mNone\u001b[39;00m\n",
      "File \u001b[0;32m~/.local/lib/python3.10/site-packages/diffusers/models/unets/unet_2d_condition.py:966\u001b[0m, in \u001b[0;36mUNet2DConditionModel.forward\u001b[0;34m(self, sample, timestep, encoder_hidden_states, class_labels, timestep_cond, attention_mask, cross_attention_kwargs, added_cond_kwargs, down_block_additional_residuals, mid_block_additional_residual, down_intrablock_additional_residuals, encoder_attention_mask, return_dict)\u001b[0m\n\u001b[1;32m    964\u001b[0m     timesteps \u001b[39m=\u001b[39m torch\u001b[39m.\u001b[39mtensor([timesteps], dtype\u001b[39m=\u001b[39mdtype, device\u001b[39m=\u001b[39msample\u001b[39m.\u001b[39mdevice)\n\u001b[1;32m    965\u001b[0m \u001b[39melif\u001b[39;00m \u001b[39mlen\u001b[39m(timesteps\u001b[39m.\u001b[39mshape) \u001b[39m==\u001b[39m \u001b[39m0\u001b[39m:\n\u001b[0;32m--> 966\u001b[0m     timesteps \u001b[39m=\u001b[39m timesteps[\u001b[39mNone\u001b[39;49;00m]\u001b[39m.\u001b[39;49mto(sample\u001b[39m.\u001b[39;49mdevice)\n\u001b[1;32m    968\u001b[0m \u001b[39m# broadcast to batch dimension in a way that's compatible with ONNX/Core ML\u001b[39;00m\n\u001b[1;32m    969\u001b[0m timesteps \u001b[39m=\u001b[39m timesteps\u001b[39m.\u001b[39mexpand(sample\u001b[39m.\u001b[39mshape[\u001b[39m0\u001b[39m])\n",
      "\u001b[0;31mKeyboardInterrupt\u001b[0m: "
     ]
    }
   ],
   "source": [
    "sampler = TrainableDiffusionModel(\n",
    "    model_ref = model_frame,\n",
    "    optimizer_ref = optimizer_frame,\n",
    "    lr_scheduler_ref=lr_scheduler_frame,\n",
    "    noise_scheduler = noise_scheduler_frame,\n",
    "    criterion = criterion_frame,\n",
    "    device=\"cuda:0\",\n",
    "    model_type=\"image\",\n",
    "    cross_att_dim=4,\n",
    "    EMA_start=0,\n",
    ")\n",
    "\n",
    "sampler.load_state(base_dir_path=\"./models/trained/mov_mnist_frames_batch96/\", suffix=\"8000\",\n",
    "                   load_optimizer=False, load_lr_sched=False)\n",
    "images = sampler.sample(num_samples=8)"
   ]
  },
  {
   "cell_type": "code",
   "execution_count": 10,
   "id": "cc8e0ea7",
   "metadata": {},
   "outputs": [
    {
     "name": "stderr",
     "output_type": "stream",
     "text": [
      "100%|████████████████████████████████████████████████████████████████████████████████████████████████████████████████████████████████████████████████████████████████████████████████████████████████████████████████████████████████████████████████████| 100/100 [00:11<00:00,  8.93it/s]\n"
     ]
    },
    {
     "data": {
      "image/png": "[encoded data removed]",
      "text/plain": [
       "<Figure size 1200x800 with 8 Axes>"
      ]
     },
     "metadata": {},
     "output_type": "display_data"
    }
   ],
   "source": [
    "images = sampler.sample(num_samples=8)\n",
    "\n",
    "fig, ax = plt.subplots(nrows=2, ncols=4, constrained_layout=True)\n",
    "fig.set_size_inches(12, 8)\n",
    "\n",
    "for i, im in enumerate(images):\n",
    "    ax[i // 4][i % 4].imshow(im.permute(1, 2, 0), cmap=\"grey\")\n",
    "    ax[i // 4][i % 4].axis(\"off\")\n",
    "\n",
    "plt.show()"
   ]
  },
  {
   "cell_type": "code",
   "execution_count": null,
   "id": "608210f5",
   "metadata": {},
   "outputs": [],
   "source": [
    "for i, im in enumerate(images):\n",
    "    write_png(im, f\"results/MovMNIST/frames_batch96/8000_{i}.png\")"
   ]
  },
  {
   "cell_type": "markdown",
   "id": "fe366fbf",
   "metadata": {},
   "source": [
    "Trying default DDPMScheduler for working with videos."
   ]
  },
  {
   "cell_type": "code",
   "execution_count": null,
   "id": "667c7430",
   "metadata": {},
   "outputs": [],
   "source": [
    "model, noise_scheduler, optimizer, lr_scheduler, criterion = init_mov_mnist_model(\n",
    "    lr_warmup_steps=100,\n",
    "    num_epochs=1,\n",
    "    beta_start=1.17e-3,\n",
    "    beta_end=1.88e-1,\n",
    "    object_cnt = len(MovMNIST_dataloader),\n",
    "    device=\"cuda:0\"\n",
    ")"
   ]
  },
  {
   "cell_type": "code",
   "execution_count": null,
   "id": "a84e175a",
   "metadata": {},
   "outputs": [
    {
     "name": "stderr",
     "output_type": "stream",
     "text": [
      "  0%|          | 0/10000 [00:00<?, ?it/s]"
     ]
    },
    {
     "name": "stderr",
     "output_type": "stream",
     "text": [
      "100%|██████████| 10000/10000 [7:58:12<00:00,  2.87s/it, MSE=0.000249] \n"
     ]
    }
   ],
   "source": [
    "losses_mixed = train_simple_new(\n",
    "    model=model,\n",
    "    dataloader=MovMNIST_dataloader,\n",
    "    noise_scheduler=noise_scheduler,\n",
    "    optimizer=optimizer,\n",
    "    lr_scheduler=lr_scheduler,\n",
    "    criterion=criterion,\n",
    "    num_epochs=1,\n",
    "    device=\"cuda:0\",\n",
    "    noise_cov=mixed_noise,\n",
    "    cross_att_dim=4,\n",
    "    save_path=\"./models/trained/basic_mnist_mixed_noise/\"\n",
    ")"
   ]
  },
  {
   "cell_type": "code",
   "execution_count": null,
   "id": "80a0a045",
   "metadata": {},
   "outputs": [],
   "source": [
    "# try:\n",
    "#     del model\n",
    "#     del optimizer\n",
    "#     del lr_scheduler\n",
    "# except:\n",
    "#     pass\n",
    "\n",
    "# torch.cuda.empty_cache()\n",
    "# import gc\n",
    "# gc.collect()\n",
    "\n",
    "model2, noise_scheduler2, optimizer2, lr_scheduler2, criterion = init_mov_mnist_model(\n",
    "    lr_warmup_steps=100,\n",
    "    num_epochs=1,\n",
    "    beta_start=1.17e-3,\n",
    "    beta_end=1.88e-1,\n",
    "    object_cnt = len(MovMNIST_dataloader),\n",
    "    device=\"cuda:0\"\n",
    ")"
   ]
  },
  {
   "cell_type": "code",
   "execution_count": null,
   "id": "b7c2e5a7",
   "metadata": {},
   "outputs": [
    {
     "name": "stderr",
     "output_type": "stream",
     "text": [
      "  0%|          | 1/10000 [00:02<8:16:22,  2.98s/it, MSE=0.999]"
     ]
    },
    {
     "name": "stderr",
     "output_type": "stream",
     "text": [
      "100%|██████████| 10000/10000 [8:05:47<00:00,  2.91s/it, MSE=0.00183]  \n"
     ]
    }
   ],
   "source": [
    "losses_uncorr = train_simple_new(\n",
    "    model=model2,\n",
    "    dataloader=MovMNIST_dataloader,\n",
    "    noise_scheduler=noise_scheduler2,\n",
    "    optimizer=optimizer2,\n",
    "    lr_scheduler=lr_scheduler2,\n",
    "    criterion=criterion,\n",
    "    num_epochs=1,\n",
    "    device=\"cuda:0\",\n",
    "    cross_att_dim=4,\n",
    "    noise_cov=progressive_noise,\n",
    "    save_path=\"./models/trained/basic_mnist_prog_noise/\"\n",
    ")"
   ]
  },
  {
   "cell_type": "code",
   "execution_count": null,
   "id": "34783fbe",
   "metadata": {},
   "outputs": [
    {
     "name": "stderr",
     "output_type": "stream",
     "text": [
      "100%|██████████| 10000/10000 [8:07:58<00:00,  2.93s/it, MSE=6.19e-5]  \n"
     ]
    },
    {
     "ename": "ValueError",
     "evalue": "too many values to unpack (expected 3)",
     "output_type": "error",
     "traceback": [
      "\u001b[0;31m---------------------------------------------------------------------------\u001b[0m",
      "\u001b[0;31mValueError\u001b[0m                                Traceback (most recent call last)",
      "\u001b[1;32m/home/mikhail_2012/diffusion_noise_scheduling/Analysis notebook.ipynb Cell 6\u001b[0m line \u001b[0;36m1\n\u001b[0;32m----> <a href='vscode-notebook-cell:/home/mikhail_2012/diffusion_noise_scheduling/Analysis%20notebook.ipynb#W6sZmlsZQ%3D%3D?line=0'>1</a>\u001b[0m a, b, c \u001b[39m=\u001b[39m train_simple_new(\n\u001b[1;32m      <a href='vscode-notebook-cell:/home/mikhail_2012/diffusion_noise_scheduling/Analysis%20notebook.ipynb#W6sZmlsZQ%3D%3D?line=1'>2</a>\u001b[0m     model\u001b[39m=\u001b[39mmodel,\n\u001b[1;32m      <a href='vscode-notebook-cell:/home/mikhail_2012/diffusion_noise_scheduling/Analysis%20notebook.ipynb#W6sZmlsZQ%3D%3D?line=2'>3</a>\u001b[0m     dataloader\u001b[39m=\u001b[39mMovMNIST_dataloader,\n\u001b[1;32m      <a href='vscode-notebook-cell:/home/mikhail_2012/diffusion_noise_scheduling/Analysis%20notebook.ipynb#W6sZmlsZQ%3D%3D?line=3'>4</a>\u001b[0m     noise_scheduler\u001b[39m=\u001b[39mnoise_scheduler,\n\u001b[1;32m      <a href='vscode-notebook-cell:/home/mikhail_2012/diffusion_noise_scheduling/Analysis%20notebook.ipynb#W6sZmlsZQ%3D%3D?line=4'>5</a>\u001b[0m     optimizer\u001b[39m=\u001b[39moptimizer,\n\u001b[1;32m      <a href='vscode-notebook-cell:/home/mikhail_2012/diffusion_noise_scheduling/Analysis%20notebook.ipynb#W6sZmlsZQ%3D%3D?line=5'>6</a>\u001b[0m     lr_scheduler\u001b[39m=\u001b[39mlr_scheduler,\n\u001b[1;32m      <a href='vscode-notebook-cell:/home/mikhail_2012/diffusion_noise_scheduling/Analysis%20notebook.ipynb#W6sZmlsZQ%3D%3D?line=6'>7</a>\u001b[0m     criterion\u001b[39m=\u001b[39mcriterion,\n\u001b[1;32m      <a href='vscode-notebook-cell:/home/mikhail_2012/diffusion_noise_scheduling/Analysis%20notebook.ipynb#W6sZmlsZQ%3D%3D?line=7'>8</a>\u001b[0m     num_epochs\u001b[39m=\u001b[39m\u001b[39m1\u001b[39m,\n\u001b[1;32m      <a href='vscode-notebook-cell:/home/mikhail_2012/diffusion_noise_scheduling/Analysis%20notebook.ipynb#W6sZmlsZQ%3D%3D?line=8'>9</a>\u001b[0m     device\u001b[39m=\u001b[39m\u001b[39m\"\u001b[39m\u001b[39mcuda:0\u001b[39m\u001b[39m\"\u001b[39m,\n\u001b[1;32m     <a href='vscode-notebook-cell:/home/mikhail_2012/diffusion_noise_scheduling/Analysis%20notebook.ipynb#W6sZmlsZQ%3D%3D?line=9'>10</a>\u001b[0m     noise_cov\u001b[39m=\u001b[39mprogressive_noise,\n\u001b[1;32m     <a href='vscode-notebook-cell:/home/mikhail_2012/diffusion_noise_scheduling/Analysis%20notebook.ipynb#W6sZmlsZQ%3D%3D?line=10'>11</a>\u001b[0m     cross_att_dim\u001b[39m=\u001b[39m\u001b[39m4\u001b[39m,\n\u001b[1;32m     <a href='vscode-notebook-cell:/home/mikhail_2012/diffusion_noise_scheduling/Analysis%20notebook.ipynb#W6sZmlsZQ%3D%3D?line=11'>12</a>\u001b[0m     save_path\u001b[39m=\u001b[39m\u001b[39m\"\u001b[39m\u001b[39m./models/trained/basic_mnist/\u001b[39m\u001b[39m\"\u001b[39m\n\u001b[1;32m     <a href='vscode-notebook-cell:/home/mikhail_2012/diffusion_noise_scheduling/Analysis%20notebook.ipynb#W6sZmlsZQ%3D%3D?line=12'>13</a>\u001b[0m )\n",
      "\u001b[0;31mValueError\u001b[0m: too many values to unpack (expected 3)"
     ]
    }
   ],
   "source": [
    "losses_prog = train_simple_new(\n",
    "    model=model,\n",
    "    dataloader=MovMNIST_dataloader,\n",
    "    noise_scheduler=noise_scheduler,\n",
    "    optimizer=optimizer,\n",
    "    lr_scheduler=lr_scheduler,\n",
    "    criterion=criterion,\n",
    "    num_epochs=1,\n",
    "    device=\"cuda:0\",\n",
    "    noise_cov=progressive_noise,\n",
    "    cross_att_dim=4,\n",
    "    save_path=\"./models/trained/basic_mnist_prog_noise/\"\n",
    ")"
   ]
  },
  {
   "cell_type": "code",
   "execution_count": null,
   "id": "1d79c627",
   "metadata": {},
   "outputs": [
    {
     "name": "stderr",
     "output_type": "stream",
     "text": [
      "100%|██████████| 100/100 [04:22<00:00,  2.62s/it]\n"
     ]
    }
   ],
   "source": [
    "model.load_state_dict(torch.load(\"./models/trained/basic_mnist_uncorr_noise/model_best.pt\"))\n",
    "\n",
    "vids = sample_videos(\n",
    "    model=model,\n",
    "    num_videos=4,\n",
    "    video_length=20,\n",
    "    noise_scheduler=noise_scheduler,\n",
    "    device=\"cuda:0\",\n",
    "    pic_size=(64, 64),\n",
    "    channel_num=1,\n",
    "    cross_att_dim=4,\n",
    "    noise_cov=mixed_noise,\n",
    "    # display_callback=draw_single_vid_frames,\n",
    "    # sample=sample.unsqueeze(0).cuda(),\n",
    ").detach().cpu()\n",
    "\n",
    "vids = ((vids.clamp(-1, 1) + 1) * 255 / 2).to(torch.uint8)"
   ]
  },
  {
   "cell_type": "code",
   "execution_count": null,
   "id": "4f32a87c",
   "metadata": {},
   "outputs": [],
   "source": [
    "for i, v in enumerate((MovMNIST_dataset[:4][0] + 1) / 2 * 255):\n",
    "    write_video(f\"./results/MovMNIST/base_samples/{i}.mp4\", v.to(torch.uint8).repeat(3, 1, 1, 1).permute(1, 2, 3, 0), fps=7)"
   ]
  },
  {
   "cell_type": "code",
   "execution_count": null,
   "id": "03cf87d2",
   "metadata": {},
   "outputs": [],
   "source": [
    "# noise_gen = NormalVideoNoise(cov_matrix = progressive_noise(20))\n",
    "# prompts = sin(arange(1, 20 + 1, device=\"cuda:0\").view(-1, 1) * arange(1, 4 + 1, device=\"cuda:0\")).tile(1).view(1, 20, -1)\n",
    "# sample = noise_gen.sample((1, 1, 20, 64, 64)).to(\"cuda:0\")\n",
    "# residual = model(sample, 99, prompts).sample[0].detach().cpu()\n",
    "# residual = ((residual.clamp(-1, 1) + 1) * 255 / 2).to(torch.uint8)\n",
    "\n",
    "write_video(f\"./results/MovMNIST/progressive_noise/test.mp4\", sample.repeat(3, 1, 1, 1).permute(1, 2, 3, 0), 7)"
   ]
  },
  {
   "cell_type": "code",
   "execution_count": null,
   "id": "acb59432",
   "metadata": {
    "scrolled": true
   },
   "outputs": [
    {
     "data": {
      "text/plain": [
       "=============================================================================================================================\n",
       "Layer (type:depth-idx)                                                      Output Shape              Param #\n",
       "=============================================================================================================================\n",
       "UNet3DConditionModel                                                        [1, 3, 75, 240, 320]      --\n",
       "├─Timesteps: 1-1                                                            [1, 12]                   --\n",
       "├─TimestepEmbedding: 1-2                                                    [1, 48]                   2,352\n",
       "│    └─LoRACompatibleLinear: 2-1                                            [1, 48]                   624\n",
       "├─SiLU: 1-3                                                                 [1, 48]                   --\n",
       "├─TimestepEmbedding: 1-4                                                    --                        (recursive)\n",
       "│    └─LoRACompatibleLinear: 2-2                                            [1, 48]                   2,352\n",
       "├─Conv2d: 1-5                                                               [75, 12, 240, 320]        336\n",
       "├─TransformerTemporalModel: 1-6                                             [75, 12, 240, 320]        --\n",
       "│    └─GroupNorm: 2-3                                                       [1, 12, 75, 240, 320]     24\n",
       "│    └─Linear: 2-4                                                          [76800, 75, 64]           832\n",
       "│    └─ModuleList: 2-5                                                      --                        --\n",
       "│    │    └─BasicTransformerBlock: 3-1                                      [76800, 75, 64]           83,008\n",
       "│    └─Linear: 2-6                                                          [76800, 75, 12]           780\n",
       "├─ModuleList: 1-19                                                          --                        (recursive)\n",
       "│    └─DownBlock3D: 2-7                                                     [75, 12, 240, 320]        6,996\n",
       "│    │    └─ModuleList: 3-10                                                --                        (recursive)\n",
       "├─SiLU: 1-8                                                                 [75, 12, 240, 320]        --\n",
       "├─ModuleList: 1-19                                                          --                        (recursive)\n",
       "│    └─DownBlock3D: 2-13                                                    --                        (recursive)\n",
       "│    │    └─ModuleList: 3-10                                                --                        (recursive)\n",
       "├─SiLU: 1-10                                                                [75, 48]                  --\n",
       "├─ModuleList: 1-19                                                          --                        (recursive)\n",
       "│    └─DownBlock3D: 2-13                                                    --                        (recursive)\n",
       "│    │    └─ModuleList: 3-10                                                --                        (recursive)\n",
       "├─SiLU: 1-12                                                                [75, 12, 240, 320]        --\n",
       "├─ModuleList: 1-19                                                          --                        (recursive)\n",
       "│    └─DownBlock3D: 2-13                                                    --                        (recursive)\n",
       "│    │    └─ModuleList: 3-10                                                --                        (recursive)\n",
       "│    │    └─ModuleList: 3-11                                                --                        (recursive)\n",
       "│    │    └─ModuleList: 3-10                                                --                        (recursive)\n",
       "├─SiLU: 1-14                                                                [75, 12, 240, 320]        --\n",
       "├─ModuleList: 1-19                                                          --                        (recursive)\n",
       "│    └─DownBlock3D: 2-13                                                    --                        (recursive)\n",
       "│    │    └─ModuleList: 3-10                                                --                        (recursive)\n",
       "├─SiLU: 1-16                                                                [75, 48]                  --\n",
       "├─ModuleList: 1-19                                                          --                        (recursive)\n",
       "│    └─DownBlock3D: 2-13                                                    --                        (recursive)\n",
       "│    │    └─ModuleList: 3-10                                                --                        (recursive)\n",
       "├─SiLU: 1-18                                                                [75, 12, 240, 320]        --\n",
       "├─ModuleList: 1-19                                                          --                        (recursive)\n",
       "│    └─DownBlock3D: 2-13                                                    --                        (recursive)\n",
       "│    │    └─ModuleList: 3-10                                                --                        (recursive)\n",
       "│    │    └─ModuleList: 3-11                                                --                        (recursive)\n",
       "├─UNetMidBlock3DCrossAttn: 1-20                                             [75, 12, 240, 320]        10,556\n",
       "│    └─ModuleList: 2-24                                                     --                        (recursive)\n",
       "│    │    └─ResnetBlock2D: 3-12                                             [75, 12, 240, 320]        3,252\n",
       "├─SiLU: 1-21                                                                [75, 12, 240, 320]        --\n",
       "├─UNetMidBlock3DCrossAttn: 1-32                                             --                        (recursive)\n",
       "│    └─ModuleList: 2-24                                                     --                        (recursive)\n",
       "│    │    └─ResnetBlock2D: 3-15                                             --                        (recursive)\n",
       "├─SiLU: 1-23                                                                [75, 48]                  --\n",
       "├─UNetMidBlock3DCrossAttn: 1-32                                             --                        (recursive)\n",
       "│    └─ModuleList: 2-24                                                     --                        (recursive)\n",
       "│    │    └─ResnetBlock2D: 3-15                                             --                        (recursive)\n",
       "├─SiLU: 1-25                                                                [75, 12, 240, 320]        --\n",
       "├─UNetMidBlock3DCrossAttn: 1-32                                             --                        (recursive)\n",
       "│    └─ModuleList: 2-24                                                     --                        (recursive)\n",
       "│    │    └─ResnetBlock2D: 3-15                                             --                        (recursive)\n",
       "│    └─ModuleList: 2-25                                                     --                        (recursive)\n",
       "│    │    └─TemporalConvLayer: 3-16                                         [75, 12, 240, 320]        1,872\n",
       "│    └─ModuleList: 2-19                                                     --                        --\n",
       "│    │    └─Transformer2DModel: 3-17                                        [75, 12, 240, 320]        1,908\n",
       "│    └─ModuleList: 2-20                                                     --                        --\n",
       "│    │    └─TransformerTemporalModel: 3-18                                  [75, 12, 240, 320]        1,652\n",
       "│    └─ModuleList: 2-24                                                     --                        (recursive)\n",
       "│    │    └─ResnetBlock2D: 3-19                                             [75, 12, 240, 320]        3,252\n",
       "├─SiLU: 1-27                                                                [75, 12, 240, 320]        --\n",
       "├─UNetMidBlock3DCrossAttn: 1-32                                             --                        (recursive)\n",
       "│    └─ModuleList: 2-24                                                     --                        (recursive)\n",
       "│    │    └─ResnetBlock2D: 3-22                                             --                        (recursive)\n",
       "├─SiLU: 1-29                                                                [75, 48]                  --\n",
       "├─UNetMidBlock3DCrossAttn: 1-32                                             --                        (recursive)\n",
       "│    └─ModuleList: 2-24                                                     --                        (recursive)\n",
       "│    │    └─ResnetBlock2D: 3-22                                             --                        (recursive)\n",
       "├─SiLU: 1-31                                                                [75, 12, 240, 320]        --\n",
       "├─UNetMidBlock3DCrossAttn: 1-32                                             --                        (recursive)\n",
       "│    └─ModuleList: 2-24                                                     --                        (recursive)\n",
       "│    │    └─ResnetBlock2D: 3-22                                             --                        (recursive)\n",
       "│    └─ModuleList: 2-25                                                     --                        (recursive)\n",
       "│    │    └─TemporalConvLayer: 3-23                                         [75, 12, 240, 320]        1,872\n",
       "├─ModuleList: 1-51                                                          --                        (recursive)\n",
       "│    └─UpBlock3D: 2-26                                                      [75, 12, 240, 320]        15,360\n",
       "│    │    └─ModuleList: 3-37                                                --                        (recursive)\n",
       "├─SiLU: 1-34                                                                [75, 24, 240, 320]        --\n",
       "├─ModuleList: 1-51                                                          --                        (recursive)\n",
       "│    └─UpBlock3D: 2-35                                                      --                        (recursive)\n",
       "│    │    └─ModuleList: 3-37                                                --                        (recursive)\n",
       "├─SiLU: 1-36                                                                [75, 48]                  --\n",
       "├─ModuleList: 1-51                                                          --                        (recursive)\n",
       "│    └─UpBlock3D: 2-35                                                      --                        (recursive)\n",
       "│    │    └─ModuleList: 3-37                                                --                        (recursive)\n",
       "├─SiLU: 1-38                                                                [75, 12, 240, 320]        --\n",
       "├─ModuleList: 1-51                                                          --                        (recursive)\n",
       "│    └─UpBlock3D: 2-35                                                      --                        (recursive)\n",
       "│    │    └─ModuleList: 3-37                                                --                        (recursive)\n",
       "│    │    └─ModuleList: 3-38                                                --                        (recursive)\n",
       "│    │    └─ModuleList: 3-37                                                --                        (recursive)\n",
       "├─SiLU: 1-40                                                                [75, 24, 240, 320]        --\n",
       "├─ModuleList: 1-51                                                          --                        (recursive)\n",
       "│    └─UpBlock3D: 2-35                                                      --                        (recursive)\n",
       "│    │    └─ModuleList: 3-37                                                --                        (recursive)\n",
       "├─SiLU: 1-42                                                                [75, 48]                  --\n",
       "├─ModuleList: 1-51                                                          --                        (recursive)\n",
       "│    └─UpBlock3D: 2-35                                                      --                        (recursive)\n",
       "│    │    └─ModuleList: 3-37                                                --                        (recursive)\n",
       "├─SiLU: 1-44                                                                [75, 12, 240, 320]        --\n",
       "├─ModuleList: 1-51                                                          --                        (recursive)\n",
       "│    └─UpBlock3D: 2-35                                                      --                        (recursive)\n",
       "│    │    └─ModuleList: 3-37                                                --                        (recursive)\n",
       "│    │    └─ModuleList: 3-38                                                --                        (recursive)\n",
       "│    │    └─ModuleList: 3-37                                                --                        (recursive)\n",
       "├─SiLU: 1-46                                                                [75, 24, 240, 320]        --\n",
       "├─ModuleList: 1-51                                                          --                        (recursive)\n",
       "│    └─UpBlock3D: 2-35                                                      --                        (recursive)\n",
       "│    │    └─ModuleList: 3-37                                                --                        (recursive)\n",
       "├─SiLU: 1-48                                                                [75, 48]                  --\n",
       "├─ModuleList: 1-51                                                          --                        (recursive)\n",
       "│    └─UpBlock3D: 2-35                                                      --                        (recursive)\n",
       "│    │    └─ModuleList: 3-37                                                --                        (recursive)\n",
       "├─SiLU: 1-50                                                                [75, 12, 240, 320]        --\n",
       "├─ModuleList: 1-51                                                          --                        (recursive)\n",
       "│    └─UpBlock3D: 2-35                                                      --                        (recursive)\n",
       "│    │    └─ModuleList: 3-37                                                --                        (recursive)\n",
       "│    │    └─ModuleList: 3-38                                                --                        (recursive)\n",
       "├─GroupNorm: 1-52                                                           [75, 12, 240, 320]        24\n",
       "├─SiLU: 1-53                                                                [75, 12, 240, 320]        --\n",
       "├─Conv2d: 1-54                                                              [75, 3, 240, 320]         327\n",
       "=============================================================================================================================\n",
       "Total params: 195,243\n",
       "Trainable params: 195,243\n",
       "Non-trainable params: 0\n",
       "Total mult-adds (Units.GIGABYTES): 215.11\n",
       "=============================================================================================================================\n",
       "Input size (MB): 69.13\n",
       "Forward/backward pass size (MB): 131006.21\n",
       "Params size (MB): 0.53\n",
       "Estimated Total Size (MB): 131075.87\n",
       "============================================================================================================================="
      ]
     },
     "execution_count": 3,
     "metadata": {},
     "output_type": "execute_result"
    }
   ],
   "source": [
    "# torch.backends.cuda.enable_mem_efficient_sdp(False)\n",
    "# torch.backends.cuda.enable_flash_sdp(False)\n",
    "# torch.backends.cuda.enable_math_sdp(False)\n",
    "\n",
    "summary(\n",
    "    model,\n",
    "    input_data = {\n",
    "        \"sample\": torch.randn(1, 3, 75, 240, 320),\n",
    "        \"timestep\": 500,\n",
    "        \"encoder_hidden_states\": torch.ones(1, 75, 24) * 3.0,\n",
    "    }\n",
    ")"
   ]
  }
 ],
 "metadata": {
  "kernelspec": {
   "display_name": "Python 3 (ipykernel)",
   "language": "python",
   "name": "python3"
  },
  "language_info": {
   "codemirror_mode": {
    "name": "ipython",
    "version": 3
   },
   "file_extension": ".py",
   "mimetype": "text/x-python",
   "name": "python",
   "nbconvert_exporter": "python",
   "pygments_lexer": "ipython3",
   "version": "3.10.12"
  }
 },
 "nbformat": 4,
 "nbformat_minor": 5
}
