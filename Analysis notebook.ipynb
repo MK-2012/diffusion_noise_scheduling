{
 "cells": [
  {
   "cell_type": "code",
   "execution_count": 1,
   "id": "67fe4880",
   "metadata": {},
   "outputs": [],
   "source": [
    "import numpy as np\n",
    "import pandas as pd\n",
    "import scipy.stats as sps\n",
    "from tqdm import tqdm\n",
    "from torchinfo import summary # DEBUG\n",
    "\n",
    "from utils.utils import *\n",
    "from utils.dataset_loaders import *\n",
    "from models.basic_models import *\n",
    "\n",
    "import torch\n",
    "from torch import nn\n",
    "from torch.utils.data import DataLoader\n",
    "from torchvision.io import write_video\n",
    "from diffusers import UNet3DConditionModel, DDPMScheduler, DDPMPipeline\n",
    "\n",
    "import matplotlib.pyplot as plt\n",
    "import seaborn as sns\n",
    "sns.set_theme(style=\"whitegrid\")"
   ]
  },
  {
   "cell_type": "code",
   "execution_count": 9,
   "id": "580790a3",
   "metadata": {},
   "outputs": [],
   "source": [
    "%reload_ext autoreload\n",
    "%autoreload 2"
   ]
  },
  {
   "cell_type": "markdown",
   "id": "e96b6dff",
   "metadata": {},
   "source": [
    "Creating dataset and dataloader for UCF-101 and MovingMNIST."
   ]
  },
  {
   "cell_type": "code",
   "execution_count": 2,
   "id": "cb5c4693",
   "metadata": {},
   "outputs": [],
   "source": [
    "# UCF_dataset = UCFDataset(\"./datasets/UCF-101/\")\n",
    "\n",
    "# batch_size = 1\n",
    "# UCF_dataloader = DataLoader(UCF_dataset, shuffle=True, batch_size=batch_size)\n",
    "\n",
    "BATCH_SIZE = 1\n",
    "\n",
    "# MovMNIST_dataset = MovMNISTDataset(\"./datasets/moving_mnist.npy\")\n",
    "# MovMNIST_dataloader = DataLoader(MovMNIST_dataset, shuffle=True, batch_size=BATCH_SIZE)\n",
    "\n",
    "MovMNIST_frame_dataset = MovMNISTFrameDataset(\"./datasets/moving_mnist.npy\")\n",
    "MovMNIST_frame_dataloader = DataLoader(MovMNIST_frame_dataset, shuffle=True, batch_size=32 * BATCH_SIZE)"
   ]
  },
  {
   "cell_type": "code",
   "execution_count": 5,
   "id": "fa625426",
   "metadata": {},
   "outputs": [],
   "source": [
    "model_frame, noise_scheduler_frame, optimizer_frame, lr_scheduler_frame, criterion_frame = init_mov_mnist_model_frame(\n",
    "    lr_warmup_steps=100,\n",
    "    num_epochs=3,\n",
    "    beta_start=1.17e-3,\n",
    "    beta_end=1.88e-1,\n",
    "    object_cnt = len(MovMNIST_frame_dataloader),\n",
    "    device=\"cpu\",\n",
    ")\n",
    "\n",
    "model_frame.load_state_dict(torch.load(\"./models/trained/mov_mnist_frames/model_12500.pt\", map_location=torch.device('cpu')))\n",
    "optimizer_frame.load_state_dict(torch.load(\"./models/trained/mov_mnist_frames/optimizer_12500.pt\", map_location=torch.device('cpu')))\n",
    "lr_scheduler_frame.load_state_dict(torch.load(\"./models/trained/mov_mnist_frames/scheduler_12500.pt\", map_location=torch.device('cpu')))"
   ]
  },
  {
   "cell_type": "code",
   "execution_count": 6,
   "id": "dd258c27",
   "metadata": {},
   "outputs": [
    {
     "name": "stderr",
     "output_type": "stream",
     "text": [
      "  0%|          | 2/6250 [00:44<38:12:50, 22.02s/it, MSE=0.0105] \n"
     ]
    },
    {
     "ename": "KeyboardInterrupt",
     "evalue": "",
     "output_type": "error",
     "traceback": [
      "\u001b[0;31m---------------------------------------------------------------------------\u001b[0m",
      "\u001b[0;31mKeyboardInterrupt\u001b[0m                         Traceback (most recent call last)",
      "\u001b[1;32m/home/mikhail_2012/diffusion_noise_scheduling/Analysis notebook.ipynb Cell 6\u001b[0m line \u001b[0;36m9\n\u001b[1;32m      <a href='vscode-notebook-cell:/home/mikhail_2012/diffusion_noise_scheduling/Analysis%20notebook.ipynb#W5sZmlsZQ%3D%3D?line=0'>1</a>\u001b[0m callbacker \u001b[39m=\u001b[39m SimpleSaveCallbacker(\n\u001b[1;32m      <a href='vscode-notebook-cell:/home/mikhail_2012/diffusion_noise_scheduling/Analysis%20notebook.ipynb#W5sZmlsZQ%3D%3D?line=1'>2</a>\u001b[0m     model_frame,\n\u001b[1;32m      <a href='vscode-notebook-cell:/home/mikhail_2012/diffusion_noise_scheduling/Analysis%20notebook.ipynb#W5sZmlsZQ%3D%3D?line=2'>3</a>\u001b[0m     optimizer_frame,\n\u001b[1;32m      <a href='vscode-notebook-cell:/home/mikhail_2012/diffusion_noise_scheduling/Analysis%20notebook.ipynb#W5sZmlsZQ%3D%3D?line=3'>4</a>\u001b[0m     save_path\u001b[39m=\u001b[39m\u001b[39m\"\u001b[39m\u001b[39m./models/trained/mov_mnist_frames/\u001b[39m\u001b[39m\"\u001b[39m,\n\u001b[1;32m      <a href='vscode-notebook-cell:/home/mikhail_2012/diffusion_noise_scheduling/Analysis%20notebook.ipynb#W5sZmlsZQ%3D%3D?line=4'>5</a>\u001b[0m     lr_scheduler_ref\u001b[39m=\u001b[39mlr_scheduler_frame,\n\u001b[1;32m      <a href='vscode-notebook-cell:/home/mikhail_2012/diffusion_noise_scheduling/Analysis%20notebook.ipynb#W5sZmlsZQ%3D%3D?line=5'>6</a>\u001b[0m )\n\u001b[1;32m      <a href='vscode-notebook-cell:/home/mikhail_2012/diffusion_noise_scheduling/Analysis%20notebook.ipynb#W5sZmlsZQ%3D%3D?line=6'>7</a>\u001b[0m callbacker\u001b[39m.\u001b[39msave_timer\u001b[39m=\u001b[39m\u001b[39m12500\u001b[39m\n\u001b[0;32m----> <a href='vscode-notebook-cell:/home/mikhail_2012/diffusion_noise_scheduling/Analysis%20notebook.ipynb#W5sZmlsZQ%3D%3D?line=8'>9</a>\u001b[0m losses_frames \u001b[39m=\u001b[39m train_images(\n\u001b[1;32m     <a href='vscode-notebook-cell:/home/mikhail_2012/diffusion_noise_scheduling/Analysis%20notebook.ipynb#W5sZmlsZQ%3D%3D?line=9'>10</a>\u001b[0m     model\u001b[39m=\u001b[39;49mmodel_frame,\n\u001b[1;32m     <a href='vscode-notebook-cell:/home/mikhail_2012/diffusion_noise_scheduling/Analysis%20notebook.ipynb#W5sZmlsZQ%3D%3D?line=10'>11</a>\u001b[0m     dataloader\u001b[39m=\u001b[39;49mMovMNIST_frame_dataloader,\n\u001b[1;32m     <a href='vscode-notebook-cell:/home/mikhail_2012/diffusion_noise_scheduling/Analysis%20notebook.ipynb#W5sZmlsZQ%3D%3D?line=11'>12</a>\u001b[0m     noise_scheduler\u001b[39m=\u001b[39;49mnoise_scheduler_frame,\n\u001b[1;32m     <a href='vscode-notebook-cell:/home/mikhail_2012/diffusion_noise_scheduling/Analysis%20notebook.ipynb#W5sZmlsZQ%3D%3D?line=12'>13</a>\u001b[0m     criterion\u001b[39m=\u001b[39;49mcriterion_frame,\n\u001b[1;32m     <a href='vscode-notebook-cell:/home/mikhail_2012/diffusion_noise_scheduling/Analysis%20notebook.ipynb#W5sZmlsZQ%3D%3D?line=13'>14</a>\u001b[0m     num_epochs\u001b[39m=\u001b[39;49m\u001b[39m1\u001b[39;49m,\n\u001b[1;32m     <a href='vscode-notebook-cell:/home/mikhail_2012/diffusion_noise_scheduling/Analysis%20notebook.ipynb#W5sZmlsZQ%3D%3D?line=14'>15</a>\u001b[0m     device\u001b[39m=\u001b[39;49m\u001b[39m\"\u001b[39;49m\u001b[39mcpu\u001b[39;49m\u001b[39m\"\u001b[39;49m,\n\u001b[1;32m     <a href='vscode-notebook-cell:/home/mikhail_2012/diffusion_noise_scheduling/Analysis%20notebook.ipynb#W5sZmlsZQ%3D%3D?line=15'>16</a>\u001b[0m     cross_att_dim\u001b[39m=\u001b[39;49m\u001b[39m4\u001b[39;49m,\n\u001b[1;32m     <a href='vscode-notebook-cell:/home/mikhail_2012/diffusion_noise_scheduling/Analysis%20notebook.ipynb#W5sZmlsZQ%3D%3D?line=16'>17</a>\u001b[0m     end_processor\u001b[39m=\u001b[39;49mcallbacker,\n\u001b[1;32m     <a href='vscode-notebook-cell:/home/mikhail_2012/diffusion_noise_scheduling/Analysis%20notebook.ipynb#W5sZmlsZQ%3D%3D?line=17'>18</a>\u001b[0m )\n\u001b[1;32m     <a href='vscode-notebook-cell:/home/mikhail_2012/diffusion_noise_scheduling/Analysis%20notebook.ipynb#W5sZmlsZQ%3D%3D?line=18'>19</a>\u001b[0m torch\u001b[39m.\u001b[39msave(torch\u001b[39m.\u001b[39mas_tensor(losses_frames), \u001b[39m\"\u001b[39m\u001b[39m./models/trained/mov_mnist_frames/losses_frames2.pt\u001b[39m\u001b[39m\"\u001b[39m)\n",
      "File \u001b[0;32m~/diffusion_noise_scheduling/utils/utils.py:179\u001b[0m, in \u001b[0;36mtrain_images\u001b[0;34m(model, dataloader, noise_scheduler, criterion, num_epochs, device, cross_att_dim, end_processor)\u001b[0m\n\u001b[1;32m    177\u001b[0m noised_images \u001b[39m=\u001b[39m noise_scheduler\u001b[39m.\u001b[39madd_noise(images, noise, steps)\n\u001b[1;32m    178\u001b[0m hidden_states_encs \u001b[39m=\u001b[39m sin(arange(\u001b[39m1\u001b[39m, cross_att_dim \u001b[39m+\u001b[39m \u001b[39m1\u001b[39m, device\u001b[39m=\u001b[39mdevice))\u001b[39m.\u001b[39mtile(images\u001b[39m.\u001b[39mshape[\u001b[39m0\u001b[39m])\u001b[39m.\u001b[39mview(images\u001b[39m.\u001b[39mshape[\u001b[39m0\u001b[39m], \u001b[39m1\u001b[39m, \u001b[39m-\u001b[39m\u001b[39m1\u001b[39m)\n\u001b[0;32m--> 179\u001b[0m predicted_noise \u001b[39m=\u001b[39m model(\n\u001b[1;32m    180\u001b[0m \tnoised_images,\n\u001b[1;32m    181\u001b[0m \tsteps,\n\u001b[1;32m    182\u001b[0m \thidden_states_encs,\n\u001b[1;32m    183\u001b[0m )\u001b[39m.\u001b[39msample\n\u001b[1;32m    185\u001b[0m loss \u001b[39m=\u001b[39m criterion(noise, predicted_noise)\n\u001b[1;32m    186\u001b[0m end_processor(loss)\n",
      "File \u001b[0;32m~/.local/lib/python3.11/site-packages/torch/nn/modules/module.py:1518\u001b[0m, in \u001b[0;36mModule._wrapped_call_impl\u001b[0;34m(self, *args, **kwargs)\u001b[0m\n\u001b[1;32m   1516\u001b[0m     \u001b[39mreturn\u001b[39;00m \u001b[39mself\u001b[39m\u001b[39m.\u001b[39m_compiled_call_impl(\u001b[39m*\u001b[39margs, \u001b[39m*\u001b[39m\u001b[39m*\u001b[39mkwargs)  \u001b[39m# type: ignore[misc]\u001b[39;00m\n\u001b[1;32m   1517\u001b[0m \u001b[39melse\u001b[39;00m:\n\u001b[0;32m-> 1518\u001b[0m     \u001b[39mreturn\u001b[39;00m \u001b[39mself\u001b[39;49m\u001b[39m.\u001b[39;49m_call_impl(\u001b[39m*\u001b[39;49margs, \u001b[39m*\u001b[39;49m\u001b[39m*\u001b[39;49mkwargs)\n",
      "File \u001b[0;32m~/.local/lib/python3.11/site-packages/torch/nn/modules/module.py:1527\u001b[0m, in \u001b[0;36mModule._call_impl\u001b[0;34m(self, *args, **kwargs)\u001b[0m\n\u001b[1;32m   1522\u001b[0m \u001b[39m# If we don't have any hooks, we want to skip the rest of the logic in\u001b[39;00m\n\u001b[1;32m   1523\u001b[0m \u001b[39m# this function, and just call forward.\u001b[39;00m\n\u001b[1;32m   1524\u001b[0m \u001b[39mif\u001b[39;00m \u001b[39mnot\u001b[39;00m (\u001b[39mself\u001b[39m\u001b[39m.\u001b[39m_backward_hooks \u001b[39mor\u001b[39;00m \u001b[39mself\u001b[39m\u001b[39m.\u001b[39m_backward_pre_hooks \u001b[39mor\u001b[39;00m \u001b[39mself\u001b[39m\u001b[39m.\u001b[39m_forward_hooks \u001b[39mor\u001b[39;00m \u001b[39mself\u001b[39m\u001b[39m.\u001b[39m_forward_pre_hooks\n\u001b[1;32m   1525\u001b[0m         \u001b[39mor\u001b[39;00m _global_backward_pre_hooks \u001b[39mor\u001b[39;00m _global_backward_hooks\n\u001b[1;32m   1526\u001b[0m         \u001b[39mor\u001b[39;00m _global_forward_hooks \u001b[39mor\u001b[39;00m _global_forward_pre_hooks):\n\u001b[0;32m-> 1527\u001b[0m     \u001b[39mreturn\u001b[39;00m forward_call(\u001b[39m*\u001b[39;49margs, \u001b[39m*\u001b[39;49m\u001b[39m*\u001b[39;49mkwargs)\n\u001b[1;32m   1529\u001b[0m \u001b[39mtry\u001b[39;00m:\n\u001b[1;32m   1530\u001b[0m     result \u001b[39m=\u001b[39m \u001b[39mNone\u001b[39;00m\n",
      "File \u001b[0;32m~/.local/lib/python3.11/site-packages/diffusers/models/unet_2d_condition.py:1112\u001b[0m, in \u001b[0;36mUNet2DConditionModel.forward\u001b[0;34m(self, sample, timestep, encoder_hidden_states, class_labels, timestep_cond, attention_mask, cross_attention_kwargs, added_cond_kwargs, down_block_additional_residuals, mid_block_additional_residual, down_intrablock_additional_residuals, encoder_attention_mask, return_dict)\u001b[0m\n\u001b[1;32m   1109\u001b[0m     \u001b[39mif\u001b[39;00m is_adapter \u001b[39mand\u001b[39;00m \u001b[39mlen\u001b[39m(down_intrablock_additional_residuals) \u001b[39m>\u001b[39m \u001b[39m0\u001b[39m:\n\u001b[1;32m   1110\u001b[0m         additional_residuals[\u001b[39m\"\u001b[39m\u001b[39madditional_residuals\u001b[39m\u001b[39m\"\u001b[39m] \u001b[39m=\u001b[39m down_intrablock_additional_residuals\u001b[39m.\u001b[39mpop(\u001b[39m0\u001b[39m)\n\u001b[0;32m-> 1112\u001b[0m     sample, res_samples \u001b[39m=\u001b[39m downsample_block(\n\u001b[1;32m   1113\u001b[0m         hidden_states\u001b[39m=\u001b[39;49msample,\n\u001b[1;32m   1114\u001b[0m         temb\u001b[39m=\u001b[39;49memb,\n\u001b[1;32m   1115\u001b[0m         encoder_hidden_states\u001b[39m=\u001b[39;49mencoder_hidden_states,\n\u001b[1;32m   1116\u001b[0m         attention_mask\u001b[39m=\u001b[39;49mattention_mask,\n\u001b[1;32m   1117\u001b[0m         cross_attention_kwargs\u001b[39m=\u001b[39;49mcross_attention_kwargs,\n\u001b[1;32m   1118\u001b[0m         encoder_attention_mask\u001b[39m=\u001b[39;49mencoder_attention_mask,\n\u001b[1;32m   1119\u001b[0m         \u001b[39m*\u001b[39;49m\u001b[39m*\u001b[39;49madditional_residuals,\n\u001b[1;32m   1120\u001b[0m     )\n\u001b[1;32m   1121\u001b[0m \u001b[39melse\u001b[39;00m:\n\u001b[1;32m   1122\u001b[0m     sample, res_samples \u001b[39m=\u001b[39m downsample_block(hidden_states\u001b[39m=\u001b[39msample, temb\u001b[39m=\u001b[39memb, scale\u001b[39m=\u001b[39mlora_scale)\n",
      "File \u001b[0;32m~/.local/lib/python3.11/site-packages/torch/nn/modules/module.py:1518\u001b[0m, in \u001b[0;36mModule._wrapped_call_impl\u001b[0;34m(self, *args, **kwargs)\u001b[0m\n\u001b[1;32m   1516\u001b[0m     \u001b[39mreturn\u001b[39;00m \u001b[39mself\u001b[39m\u001b[39m.\u001b[39m_compiled_call_impl(\u001b[39m*\u001b[39margs, \u001b[39m*\u001b[39m\u001b[39m*\u001b[39mkwargs)  \u001b[39m# type: ignore[misc]\u001b[39;00m\n\u001b[1;32m   1517\u001b[0m \u001b[39melse\u001b[39;00m:\n\u001b[0;32m-> 1518\u001b[0m     \u001b[39mreturn\u001b[39;00m \u001b[39mself\u001b[39;49m\u001b[39m.\u001b[39;49m_call_impl(\u001b[39m*\u001b[39;49margs, \u001b[39m*\u001b[39;49m\u001b[39m*\u001b[39;49mkwargs)\n",
      "File \u001b[0;32m~/.local/lib/python3.11/site-packages/torch/nn/modules/module.py:1527\u001b[0m, in \u001b[0;36mModule._call_impl\u001b[0;34m(self, *args, **kwargs)\u001b[0m\n\u001b[1;32m   1522\u001b[0m \u001b[39m# If we don't have any hooks, we want to skip the rest of the logic in\u001b[39;00m\n\u001b[1;32m   1523\u001b[0m \u001b[39m# this function, and just call forward.\u001b[39;00m\n\u001b[1;32m   1524\u001b[0m \u001b[39mif\u001b[39;00m \u001b[39mnot\u001b[39;00m (\u001b[39mself\u001b[39m\u001b[39m.\u001b[39m_backward_hooks \u001b[39mor\u001b[39;00m \u001b[39mself\u001b[39m\u001b[39m.\u001b[39m_backward_pre_hooks \u001b[39mor\u001b[39;00m \u001b[39mself\u001b[39m\u001b[39m.\u001b[39m_forward_hooks \u001b[39mor\u001b[39;00m \u001b[39mself\u001b[39m\u001b[39m.\u001b[39m_forward_pre_hooks\n\u001b[1;32m   1525\u001b[0m         \u001b[39mor\u001b[39;00m _global_backward_pre_hooks \u001b[39mor\u001b[39;00m _global_backward_hooks\n\u001b[1;32m   1526\u001b[0m         \u001b[39mor\u001b[39;00m _global_forward_hooks \u001b[39mor\u001b[39;00m _global_forward_pre_hooks):\n\u001b[0;32m-> 1527\u001b[0m     \u001b[39mreturn\u001b[39;00m forward_call(\u001b[39m*\u001b[39;49margs, \u001b[39m*\u001b[39;49m\u001b[39m*\u001b[39;49mkwargs)\n\u001b[1;32m   1529\u001b[0m \u001b[39mtry\u001b[39;00m:\n\u001b[1;32m   1530\u001b[0m     result \u001b[39m=\u001b[39m \u001b[39mNone\u001b[39;00m\n",
      "File \u001b[0;32m~/.local/lib/python3.11/site-packages/diffusers/models/unet_2d_blocks.py:1160\u001b[0m, in \u001b[0;36mCrossAttnDownBlock2D.forward\u001b[0;34m(self, hidden_states, temb, encoder_hidden_states, attention_mask, cross_attention_kwargs, encoder_attention_mask, additional_residuals)\u001b[0m\n\u001b[1;32m   1158\u001b[0m \u001b[39melse\u001b[39;00m:\n\u001b[1;32m   1159\u001b[0m     hidden_states \u001b[39m=\u001b[39m resnet(hidden_states, temb, scale\u001b[39m=\u001b[39mlora_scale)\n\u001b[0;32m-> 1160\u001b[0m     hidden_states \u001b[39m=\u001b[39m attn(\n\u001b[1;32m   1161\u001b[0m         hidden_states,\n\u001b[1;32m   1162\u001b[0m         encoder_hidden_states\u001b[39m=\u001b[39;49mencoder_hidden_states,\n\u001b[1;32m   1163\u001b[0m         cross_attention_kwargs\u001b[39m=\u001b[39;49mcross_attention_kwargs,\n\u001b[1;32m   1164\u001b[0m         attention_mask\u001b[39m=\u001b[39;49mattention_mask,\n\u001b[1;32m   1165\u001b[0m         encoder_attention_mask\u001b[39m=\u001b[39;49mencoder_attention_mask,\n\u001b[1;32m   1166\u001b[0m         return_dict\u001b[39m=\u001b[39;49m\u001b[39mFalse\u001b[39;49;00m,\n\u001b[1;32m   1167\u001b[0m     )[\u001b[39m0\u001b[39m]\n\u001b[1;32m   1169\u001b[0m \u001b[39m# apply additional residuals to the output of the last pair of resnet and attention blocks\u001b[39;00m\n\u001b[1;32m   1170\u001b[0m \u001b[39mif\u001b[39;00m i \u001b[39m==\u001b[39m \u001b[39mlen\u001b[39m(blocks) \u001b[39m-\u001b[39m \u001b[39m1\u001b[39m \u001b[39mand\u001b[39;00m additional_residuals \u001b[39mis\u001b[39;00m \u001b[39mnot\u001b[39;00m \u001b[39mNone\u001b[39;00m:\n",
      "File \u001b[0;32m~/.local/lib/python3.11/site-packages/torch/nn/modules/module.py:1518\u001b[0m, in \u001b[0;36mModule._wrapped_call_impl\u001b[0;34m(self, *args, **kwargs)\u001b[0m\n\u001b[1;32m   1516\u001b[0m     \u001b[39mreturn\u001b[39;00m \u001b[39mself\u001b[39m\u001b[39m.\u001b[39m_compiled_call_impl(\u001b[39m*\u001b[39margs, \u001b[39m*\u001b[39m\u001b[39m*\u001b[39mkwargs)  \u001b[39m# type: ignore[misc]\u001b[39;00m\n\u001b[1;32m   1517\u001b[0m \u001b[39melse\u001b[39;00m:\n\u001b[0;32m-> 1518\u001b[0m     \u001b[39mreturn\u001b[39;00m \u001b[39mself\u001b[39;49m\u001b[39m.\u001b[39;49m_call_impl(\u001b[39m*\u001b[39;49margs, \u001b[39m*\u001b[39;49m\u001b[39m*\u001b[39;49mkwargs)\n",
      "File \u001b[0;32m~/.local/lib/python3.11/site-packages/torch/nn/modules/module.py:1527\u001b[0m, in \u001b[0;36mModule._call_impl\u001b[0;34m(self, *args, **kwargs)\u001b[0m\n\u001b[1;32m   1522\u001b[0m \u001b[39m# If we don't have any hooks, we want to skip the rest of the logic in\u001b[39;00m\n\u001b[1;32m   1523\u001b[0m \u001b[39m# this function, and just call forward.\u001b[39;00m\n\u001b[1;32m   1524\u001b[0m \u001b[39mif\u001b[39;00m \u001b[39mnot\u001b[39;00m (\u001b[39mself\u001b[39m\u001b[39m.\u001b[39m_backward_hooks \u001b[39mor\u001b[39;00m \u001b[39mself\u001b[39m\u001b[39m.\u001b[39m_backward_pre_hooks \u001b[39mor\u001b[39;00m \u001b[39mself\u001b[39m\u001b[39m.\u001b[39m_forward_hooks \u001b[39mor\u001b[39;00m \u001b[39mself\u001b[39m\u001b[39m.\u001b[39m_forward_pre_hooks\n\u001b[1;32m   1525\u001b[0m         \u001b[39mor\u001b[39;00m _global_backward_pre_hooks \u001b[39mor\u001b[39;00m _global_backward_hooks\n\u001b[1;32m   1526\u001b[0m         \u001b[39mor\u001b[39;00m _global_forward_hooks \u001b[39mor\u001b[39;00m _global_forward_pre_hooks):\n\u001b[0;32m-> 1527\u001b[0m     \u001b[39mreturn\u001b[39;00m forward_call(\u001b[39m*\u001b[39;49margs, \u001b[39m*\u001b[39;49m\u001b[39m*\u001b[39;49mkwargs)\n\u001b[1;32m   1529\u001b[0m \u001b[39mtry\u001b[39;00m:\n\u001b[1;32m   1530\u001b[0m     result \u001b[39m=\u001b[39m \u001b[39mNone\u001b[39;00m\n",
      "File \u001b[0;32m~/.local/lib/python3.11/site-packages/diffusers/models/transformer_2d.py:392\u001b[0m, in \u001b[0;36mTransformer2DModel.forward\u001b[0;34m(self, hidden_states, encoder_hidden_states, timestep, added_cond_kwargs, class_labels, cross_attention_kwargs, attention_mask, encoder_attention_mask, return_dict)\u001b[0m\n\u001b[1;32m    380\u001b[0m         hidden_states \u001b[39m=\u001b[39m torch\u001b[39m.\u001b[39mutils\u001b[39m.\u001b[39mcheckpoint\u001b[39m.\u001b[39mcheckpoint(\n\u001b[1;32m    381\u001b[0m             create_custom_forward(block),\n\u001b[1;32m    382\u001b[0m             hidden_states,\n\u001b[0;32m   (...)\u001b[0m\n\u001b[1;32m    389\u001b[0m             \u001b[39m*\u001b[39m\u001b[39m*\u001b[39mckpt_kwargs,\n\u001b[1;32m    390\u001b[0m         )\n\u001b[1;32m    391\u001b[0m     \u001b[39melse\u001b[39;00m:\n\u001b[0;32m--> 392\u001b[0m         hidden_states \u001b[39m=\u001b[39m block(\n\u001b[1;32m    393\u001b[0m             hidden_states,\n\u001b[1;32m    394\u001b[0m             attention_mask\u001b[39m=\u001b[39;49mattention_mask,\n\u001b[1;32m    395\u001b[0m             encoder_hidden_states\u001b[39m=\u001b[39;49mencoder_hidden_states,\n\u001b[1;32m    396\u001b[0m             encoder_attention_mask\u001b[39m=\u001b[39;49mencoder_attention_mask,\n\u001b[1;32m    397\u001b[0m             timestep\u001b[39m=\u001b[39;49mtimestep,\n\u001b[1;32m    398\u001b[0m             cross_attention_kwargs\u001b[39m=\u001b[39;49mcross_attention_kwargs,\n\u001b[1;32m    399\u001b[0m             class_labels\u001b[39m=\u001b[39;49mclass_labels,\n\u001b[1;32m    400\u001b[0m         )\n\u001b[1;32m    402\u001b[0m \u001b[39m# 3. Output\u001b[39;00m\n\u001b[1;32m    403\u001b[0m \u001b[39mif\u001b[39;00m \u001b[39mself\u001b[39m\u001b[39m.\u001b[39mis_input_continuous:\n",
      "File \u001b[0;32m~/.local/lib/python3.11/site-packages/torch/nn/modules/module.py:1518\u001b[0m, in \u001b[0;36mModule._wrapped_call_impl\u001b[0;34m(self, *args, **kwargs)\u001b[0m\n\u001b[1;32m   1516\u001b[0m     \u001b[39mreturn\u001b[39;00m \u001b[39mself\u001b[39m\u001b[39m.\u001b[39m_compiled_call_impl(\u001b[39m*\u001b[39margs, \u001b[39m*\u001b[39m\u001b[39m*\u001b[39mkwargs)  \u001b[39m# type: ignore[misc]\u001b[39;00m\n\u001b[1;32m   1517\u001b[0m \u001b[39melse\u001b[39;00m:\n\u001b[0;32m-> 1518\u001b[0m     \u001b[39mreturn\u001b[39;00m \u001b[39mself\u001b[39;49m\u001b[39m.\u001b[39;49m_call_impl(\u001b[39m*\u001b[39;49margs, \u001b[39m*\u001b[39;49m\u001b[39m*\u001b[39;49mkwargs)\n",
      "File \u001b[0;32m~/.local/lib/python3.11/site-packages/torch/nn/modules/module.py:1527\u001b[0m, in \u001b[0;36mModule._call_impl\u001b[0;34m(self, *args, **kwargs)\u001b[0m\n\u001b[1;32m   1522\u001b[0m \u001b[39m# If we don't have any hooks, we want to skip the rest of the logic in\u001b[39;00m\n\u001b[1;32m   1523\u001b[0m \u001b[39m# this function, and just call forward.\u001b[39;00m\n\u001b[1;32m   1524\u001b[0m \u001b[39mif\u001b[39;00m \u001b[39mnot\u001b[39;00m (\u001b[39mself\u001b[39m\u001b[39m.\u001b[39m_backward_hooks \u001b[39mor\u001b[39;00m \u001b[39mself\u001b[39m\u001b[39m.\u001b[39m_backward_pre_hooks \u001b[39mor\u001b[39;00m \u001b[39mself\u001b[39m\u001b[39m.\u001b[39m_forward_hooks \u001b[39mor\u001b[39;00m \u001b[39mself\u001b[39m\u001b[39m.\u001b[39m_forward_pre_hooks\n\u001b[1;32m   1525\u001b[0m         \u001b[39mor\u001b[39;00m _global_backward_pre_hooks \u001b[39mor\u001b[39;00m _global_backward_hooks\n\u001b[1;32m   1526\u001b[0m         \u001b[39mor\u001b[39;00m _global_forward_hooks \u001b[39mor\u001b[39;00m _global_forward_pre_hooks):\n\u001b[0;32m-> 1527\u001b[0m     \u001b[39mreturn\u001b[39;00m forward_call(\u001b[39m*\u001b[39;49margs, \u001b[39m*\u001b[39;49m\u001b[39m*\u001b[39;49mkwargs)\n\u001b[1;32m   1529\u001b[0m \u001b[39mtry\u001b[39;00m:\n\u001b[1;32m   1530\u001b[0m     result \u001b[39m=\u001b[39m \u001b[39mNone\u001b[39;00m\n",
      "File \u001b[0;32m~/.local/lib/python3.11/site-packages/diffusers/models/attention.py:393\u001b[0m, in \u001b[0;36mBasicTransformerBlock.forward\u001b[0;34m(self, hidden_states, attention_mask, encoder_hidden_states, encoder_attention_mask, timestep, cross_attention_kwargs, class_labels, added_cond_kwargs)\u001b[0m\n\u001b[1;32m    389\u001b[0m     ff_output \u001b[39m=\u001b[39m _chunked_feed_forward(\n\u001b[1;32m    390\u001b[0m         \u001b[39mself\u001b[39m\u001b[39m.\u001b[39mff, norm_hidden_states, \u001b[39mself\u001b[39m\u001b[39m.\u001b[39m_chunk_dim, \u001b[39mself\u001b[39m\u001b[39m.\u001b[39m_chunk_size, lora_scale\u001b[39m=\u001b[39mlora_scale\n\u001b[1;32m    391\u001b[0m     )\n\u001b[1;32m    392\u001b[0m \u001b[39melse\u001b[39;00m:\n\u001b[0;32m--> 393\u001b[0m     ff_output \u001b[39m=\u001b[39m \u001b[39mself\u001b[39;49m\u001b[39m.\u001b[39;49mff(norm_hidden_states, scale\u001b[39m=\u001b[39;49mlora_scale)\n\u001b[1;32m    395\u001b[0m \u001b[39mif\u001b[39;00m \u001b[39mself\u001b[39m\u001b[39m.\u001b[39muse_ada_layer_norm_zero:\n\u001b[1;32m    396\u001b[0m     ff_output \u001b[39m=\u001b[39m gate_mlp\u001b[39m.\u001b[39munsqueeze(\u001b[39m1\u001b[39m) \u001b[39m*\u001b[39m ff_output\n",
      "File \u001b[0;32m~/.local/lib/python3.11/site-packages/torch/nn/modules/module.py:1518\u001b[0m, in \u001b[0;36mModule._wrapped_call_impl\u001b[0;34m(self, *args, **kwargs)\u001b[0m\n\u001b[1;32m   1516\u001b[0m     \u001b[39mreturn\u001b[39;00m \u001b[39mself\u001b[39m\u001b[39m.\u001b[39m_compiled_call_impl(\u001b[39m*\u001b[39margs, \u001b[39m*\u001b[39m\u001b[39m*\u001b[39mkwargs)  \u001b[39m# type: ignore[misc]\u001b[39;00m\n\u001b[1;32m   1517\u001b[0m \u001b[39melse\u001b[39;00m:\n\u001b[0;32m-> 1518\u001b[0m     \u001b[39mreturn\u001b[39;00m \u001b[39mself\u001b[39;49m\u001b[39m.\u001b[39;49m_call_impl(\u001b[39m*\u001b[39;49margs, \u001b[39m*\u001b[39;49m\u001b[39m*\u001b[39;49mkwargs)\n",
      "File \u001b[0;32m~/.local/lib/python3.11/site-packages/torch/nn/modules/module.py:1527\u001b[0m, in \u001b[0;36mModule._call_impl\u001b[0;34m(self, *args, **kwargs)\u001b[0m\n\u001b[1;32m   1522\u001b[0m \u001b[39m# If we don't have any hooks, we want to skip the rest of the logic in\u001b[39;00m\n\u001b[1;32m   1523\u001b[0m \u001b[39m# this function, and just call forward.\u001b[39;00m\n\u001b[1;32m   1524\u001b[0m \u001b[39mif\u001b[39;00m \u001b[39mnot\u001b[39;00m (\u001b[39mself\u001b[39m\u001b[39m.\u001b[39m_backward_hooks \u001b[39mor\u001b[39;00m \u001b[39mself\u001b[39m\u001b[39m.\u001b[39m_backward_pre_hooks \u001b[39mor\u001b[39;00m \u001b[39mself\u001b[39m\u001b[39m.\u001b[39m_forward_hooks \u001b[39mor\u001b[39;00m \u001b[39mself\u001b[39m\u001b[39m.\u001b[39m_forward_pre_hooks\n\u001b[1;32m   1525\u001b[0m         \u001b[39mor\u001b[39;00m _global_backward_pre_hooks \u001b[39mor\u001b[39;00m _global_backward_hooks\n\u001b[1;32m   1526\u001b[0m         \u001b[39mor\u001b[39;00m _global_forward_hooks \u001b[39mor\u001b[39;00m _global_forward_pre_hooks):\n\u001b[0;32m-> 1527\u001b[0m     \u001b[39mreturn\u001b[39;00m forward_call(\u001b[39m*\u001b[39;49margs, \u001b[39m*\u001b[39;49m\u001b[39m*\u001b[39;49mkwargs)\n\u001b[1;32m   1529\u001b[0m \u001b[39mtry\u001b[39;00m:\n\u001b[1;32m   1530\u001b[0m     result \u001b[39m=\u001b[39m \u001b[39mNone\u001b[39;00m\n",
      "File \u001b[0;32m~/.local/lib/python3.11/site-packages/diffusers/models/attention.py:665\u001b[0m, in \u001b[0;36mFeedForward.forward\u001b[0;34m(self, hidden_states, scale)\u001b[0m\n\u001b[1;32m    663\u001b[0m \u001b[39mfor\u001b[39;00m module \u001b[39min\u001b[39;00m \u001b[39mself\u001b[39m\u001b[39m.\u001b[39mnet:\n\u001b[1;32m    664\u001b[0m     \u001b[39mif\u001b[39;00m \u001b[39misinstance\u001b[39m(module, compatible_cls):\n\u001b[0;32m--> 665\u001b[0m         hidden_states \u001b[39m=\u001b[39m module(hidden_states, scale)\n\u001b[1;32m    666\u001b[0m     \u001b[39melse\u001b[39;00m:\n\u001b[1;32m    667\u001b[0m         hidden_states \u001b[39m=\u001b[39m module(hidden_states)\n",
      "File \u001b[0;32m~/.local/lib/python3.11/site-packages/torch/nn/modules/module.py:1518\u001b[0m, in \u001b[0;36mModule._wrapped_call_impl\u001b[0;34m(self, *args, **kwargs)\u001b[0m\n\u001b[1;32m   1516\u001b[0m     \u001b[39mreturn\u001b[39;00m \u001b[39mself\u001b[39m\u001b[39m.\u001b[39m_compiled_call_impl(\u001b[39m*\u001b[39margs, \u001b[39m*\u001b[39m\u001b[39m*\u001b[39mkwargs)  \u001b[39m# type: ignore[misc]\u001b[39;00m\n\u001b[1;32m   1517\u001b[0m \u001b[39melse\u001b[39;00m:\n\u001b[0;32m-> 1518\u001b[0m     \u001b[39mreturn\u001b[39;00m \u001b[39mself\u001b[39;49m\u001b[39m.\u001b[39;49m_call_impl(\u001b[39m*\u001b[39;49margs, \u001b[39m*\u001b[39;49m\u001b[39m*\u001b[39;49mkwargs)\n",
      "File \u001b[0;32m~/.local/lib/python3.11/site-packages/torch/nn/modules/module.py:1527\u001b[0m, in \u001b[0;36mModule._call_impl\u001b[0;34m(self, *args, **kwargs)\u001b[0m\n\u001b[1;32m   1522\u001b[0m \u001b[39m# If we don't have any hooks, we want to skip the rest of the logic in\u001b[39;00m\n\u001b[1;32m   1523\u001b[0m \u001b[39m# this function, and just call forward.\u001b[39;00m\n\u001b[1;32m   1524\u001b[0m \u001b[39mif\u001b[39;00m \u001b[39mnot\u001b[39;00m (\u001b[39mself\u001b[39m\u001b[39m.\u001b[39m_backward_hooks \u001b[39mor\u001b[39;00m \u001b[39mself\u001b[39m\u001b[39m.\u001b[39m_backward_pre_hooks \u001b[39mor\u001b[39;00m \u001b[39mself\u001b[39m\u001b[39m.\u001b[39m_forward_hooks \u001b[39mor\u001b[39;00m \u001b[39mself\u001b[39m\u001b[39m.\u001b[39m_forward_pre_hooks\n\u001b[1;32m   1525\u001b[0m         \u001b[39mor\u001b[39;00m _global_backward_pre_hooks \u001b[39mor\u001b[39;00m _global_backward_hooks\n\u001b[1;32m   1526\u001b[0m         \u001b[39mor\u001b[39;00m _global_forward_hooks \u001b[39mor\u001b[39;00m _global_forward_pre_hooks):\n\u001b[0;32m-> 1527\u001b[0m     \u001b[39mreturn\u001b[39;00m forward_call(\u001b[39m*\u001b[39;49margs, \u001b[39m*\u001b[39;49m\u001b[39m*\u001b[39;49mkwargs)\n\u001b[1;32m   1529\u001b[0m \u001b[39mtry\u001b[39;00m:\n\u001b[1;32m   1530\u001b[0m     result \u001b[39m=\u001b[39m \u001b[39mNone\u001b[39;00m\n",
      "File \u001b[0;32m~/.local/lib/python3.11/site-packages/diffusers/models/activations.py:102\u001b[0m, in \u001b[0;36mGEGLU.forward\u001b[0;34m(self, hidden_states, scale)\u001b[0m\n\u001b[1;32m    100\u001b[0m \u001b[39mdef\u001b[39;00m \u001b[39mforward\u001b[39m(\u001b[39mself\u001b[39m, hidden_states, scale: \u001b[39mfloat\u001b[39m \u001b[39m=\u001b[39m \u001b[39m1.0\u001b[39m):\n\u001b[1;32m    101\u001b[0m     args \u001b[39m=\u001b[39m () \u001b[39mif\u001b[39;00m USE_PEFT_BACKEND \u001b[39melse\u001b[39;00m (scale,)\n\u001b[0;32m--> 102\u001b[0m     hidden_states, gate \u001b[39m=\u001b[39m \u001b[39mself\u001b[39;49m\u001b[39m.\u001b[39;49mproj(hidden_states, \u001b[39m*\u001b[39;49margs)\u001b[39m.\u001b[39mchunk(\u001b[39m2\u001b[39m, dim\u001b[39m=\u001b[39m\u001b[39m-\u001b[39m\u001b[39m1\u001b[39m)\n\u001b[1;32m    103\u001b[0m     \u001b[39mreturn\u001b[39;00m hidden_states \u001b[39m*\u001b[39m \u001b[39mself\u001b[39m\u001b[39m.\u001b[39mgelu(gate)\n",
      "File \u001b[0;32m~/.local/lib/python3.11/site-packages/torch/nn/modules/module.py:1518\u001b[0m, in \u001b[0;36mModule._wrapped_call_impl\u001b[0;34m(self, *args, **kwargs)\u001b[0m\n\u001b[1;32m   1516\u001b[0m     \u001b[39mreturn\u001b[39;00m \u001b[39mself\u001b[39m\u001b[39m.\u001b[39m_compiled_call_impl(\u001b[39m*\u001b[39margs, \u001b[39m*\u001b[39m\u001b[39m*\u001b[39mkwargs)  \u001b[39m# type: ignore[misc]\u001b[39;00m\n\u001b[1;32m   1517\u001b[0m \u001b[39melse\u001b[39;00m:\n\u001b[0;32m-> 1518\u001b[0m     \u001b[39mreturn\u001b[39;00m \u001b[39mself\u001b[39;49m\u001b[39m.\u001b[39;49m_call_impl(\u001b[39m*\u001b[39;49margs, \u001b[39m*\u001b[39;49m\u001b[39m*\u001b[39;49mkwargs)\n",
      "File \u001b[0;32m~/.local/lib/python3.11/site-packages/torch/nn/modules/module.py:1527\u001b[0m, in \u001b[0;36mModule._call_impl\u001b[0;34m(self, *args, **kwargs)\u001b[0m\n\u001b[1;32m   1522\u001b[0m \u001b[39m# If we don't have any hooks, we want to skip the rest of the logic in\u001b[39;00m\n\u001b[1;32m   1523\u001b[0m \u001b[39m# this function, and just call forward.\u001b[39;00m\n\u001b[1;32m   1524\u001b[0m \u001b[39mif\u001b[39;00m \u001b[39mnot\u001b[39;00m (\u001b[39mself\u001b[39m\u001b[39m.\u001b[39m_backward_hooks \u001b[39mor\u001b[39;00m \u001b[39mself\u001b[39m\u001b[39m.\u001b[39m_backward_pre_hooks \u001b[39mor\u001b[39;00m \u001b[39mself\u001b[39m\u001b[39m.\u001b[39m_forward_hooks \u001b[39mor\u001b[39;00m \u001b[39mself\u001b[39m\u001b[39m.\u001b[39m_forward_pre_hooks\n\u001b[1;32m   1525\u001b[0m         \u001b[39mor\u001b[39;00m _global_backward_pre_hooks \u001b[39mor\u001b[39;00m _global_backward_hooks\n\u001b[1;32m   1526\u001b[0m         \u001b[39mor\u001b[39;00m _global_forward_hooks \u001b[39mor\u001b[39;00m _global_forward_pre_hooks):\n\u001b[0;32m-> 1527\u001b[0m     \u001b[39mreturn\u001b[39;00m forward_call(\u001b[39m*\u001b[39;49margs, \u001b[39m*\u001b[39;49m\u001b[39m*\u001b[39;49mkwargs)\n\u001b[1;32m   1529\u001b[0m \u001b[39mtry\u001b[39;00m:\n\u001b[1;32m   1530\u001b[0m     result \u001b[39m=\u001b[39m \u001b[39mNone\u001b[39;00m\n",
      "File \u001b[0;32m~/.local/lib/python3.11/site-packages/diffusers/models/lora.py:430\u001b[0m, in \u001b[0;36mLoRACompatibleLinear.forward\u001b[0;34m(self, hidden_states, scale)\u001b[0m\n\u001b[1;32m    428\u001b[0m \u001b[39mdef\u001b[39;00m \u001b[39mforward\u001b[39m(\u001b[39mself\u001b[39m, hidden_states: torch\u001b[39m.\u001b[39mTensor, scale: \u001b[39mfloat\u001b[39m \u001b[39m=\u001b[39m \u001b[39m1.0\u001b[39m) \u001b[39m-\u001b[39m\u001b[39m>\u001b[39m torch\u001b[39m.\u001b[39mTensor:\n\u001b[1;32m    429\u001b[0m     \u001b[39mif\u001b[39;00m \u001b[39mself\u001b[39m\u001b[39m.\u001b[39mlora_layer \u001b[39mis\u001b[39;00m \u001b[39mNone\u001b[39;00m:\n\u001b[0;32m--> 430\u001b[0m         out \u001b[39m=\u001b[39m \u001b[39msuper\u001b[39;49m()\u001b[39m.\u001b[39;49mforward(hidden_states)\n\u001b[1;32m    431\u001b[0m         \u001b[39mreturn\u001b[39;00m out\n\u001b[1;32m    432\u001b[0m     \u001b[39melse\u001b[39;00m:\n",
      "File \u001b[0;32m~/.local/lib/python3.11/site-packages/torch/nn/modules/linear.py:114\u001b[0m, in \u001b[0;36mLinear.forward\u001b[0;34m(self, input)\u001b[0m\n\u001b[1;32m    113\u001b[0m \u001b[39mdef\u001b[39;00m \u001b[39mforward\u001b[39m(\u001b[39mself\u001b[39m, \u001b[39minput\u001b[39m: Tensor) \u001b[39m-\u001b[39m\u001b[39m>\u001b[39m Tensor:\n\u001b[0;32m--> 114\u001b[0m     \u001b[39mreturn\u001b[39;00m F\u001b[39m.\u001b[39;49mlinear(\u001b[39minput\u001b[39;49m, \u001b[39mself\u001b[39;49m\u001b[39m.\u001b[39;49mweight, \u001b[39mself\u001b[39;49m\u001b[39m.\u001b[39;49mbias)\n",
      "\u001b[0;31mKeyboardInterrupt\u001b[0m: "
     ]
    }
   ],
   "source": [
    "callbacker = SimpleSaveCallbacker(\n",
    "    model_frame,\n",
    "    optimizer_frame,\n",
    "    save_path=\"./models/trained/mov_mnist_frames/\",\n",
    "    lr_scheduler_ref=lr_scheduler_frame,\n",
    ")\n",
    "callbacker.save_timer=12500\n",
    "\n",
    "losses_frames = train_images(\n",
    "    model=model_frame,\n",
    "    dataloader=MovMNIST_frame_dataloader,\n",
    "    noise_scheduler=noise_scheduler_frame,\n",
    "    criterion=criterion_frame,\n",
    "    num_epochs=1,\n",
    "    device=\"cpu\",\n",
    "    cross_att_dim=4,\n",
    "    end_processor=callbacker,\n",
    ")\n",
    "torch.save(torch.as_tensor(losses_frames), \"./models/trained/mov_mnist_frames/losses_frames2.pt\")"
   ]
  },
  {
   "cell_type": "code",
   "execution_count": 10,
   "id": "2208e0a2",
   "metadata": {},
   "outputs": [
    {
     "name": "stderr",
     "output_type": "stream",
     "text": [
      "100%|██████████| 100/100 [00:11<00:00,  8.54it/s]\n"
     ]
    }
   ],
   "source": [
    "model_frame.load_state_dict(torch.load(\"./models/trained/mov_mnist_frames/model_12500.pt\"))\n",
    "\n",
    "images = sample_images(\n",
    "    model=model_frame,\n",
    "    num_images=8,\n",
    "    noise_scheduler=noise_scheduler_frame,\n",
    "    device=\"cuda:0\",\n",
    "    cross_att_dim=4,\n",
    ").detach().cpu()\n",
    "\n",
    "images = ((images.clamp(-1, 1) + 1) / 2 * 255).to(torch.uint8)"
   ]
  },
  {
   "cell_type": "code",
   "execution_count": 14,
   "id": "2dd24c51",
   "metadata": {},
   "outputs": [
    {
     "data": {
      "image/png": "[encoded data removed]",
      "text/plain": [
       "<Figure size 1200x800 with 8 Axes>"
      ]
     },
     "metadata": {},
     "output_type": "display_data"
    }
   ],
   "source": [
    "fig, ax = plt.subplots(nrows=2, ncols=4, constrained_layout=True)\n",
    "fig.set_size_inches(12, 8)\n",
    "\n",
    "for i, im in enumerate(images):\n",
    "    ax[i // 4][i % 4].imshow(im.permute(1, 2, 0), cmap=\"grey\")\n",
    "    ax[i // 4][i % 4].axis(\"off\")\n",
    "\n",
    "plt.show()"
   ]
  },
  {
   "cell_type": "markdown",
   "id": "fe366fbf",
   "metadata": {},
   "source": [
    "Trying default DDPMScheduler for working with videos."
   ]
  },
  {
   "cell_type": "code",
   "execution_count": 6,
   "id": "667c7430",
   "metadata": {},
   "outputs": [],
   "source": [
    "model, noise_scheduler, optimizer, lr_scheduler, criterion = init_mov_mnist_model(\n",
    "    lr_warmup_steps=100,\n",
    "    num_epochs=1,\n",
    "    beta_start=1.17e-3,\n",
    "    beta_end=1.88e-1,\n",
    "    object_cnt = len(MovMNIST_dataloader),\n",
    "    device=\"cuda:0\"\n",
    ")"
   ]
  },
  {
   "cell_type": "code",
   "execution_count": 4,
   "id": "a84e175a",
   "metadata": {},
   "outputs": [
    {
     "name": "stderr",
     "output_type": "stream",
     "text": [
      "  0%|          | 0/10000 [00:00<?, ?it/s]"
     ]
    },
    {
     "name": "stderr",
     "output_type": "stream",
     "text": [
      "100%|██████████| 10000/10000 [7:58:12<00:00,  2.87s/it, MSE=0.000249] \n"
     ]
    }
   ],
   "source": [
    "losses_mixed = train_simple_new(\n",
    "    model=model,\n",
    "    dataloader=MovMNIST_dataloader,\n",
    "    noise_scheduler=noise_scheduler,\n",
    "    optimizer=optimizer,\n",
    "    lr_scheduler=lr_scheduler,\n",
    "    criterion=criterion,\n",
    "    num_epochs=1,\n",
    "    device=\"cuda:0\",\n",
    "    noise_cov=mixed_noise,\n",
    "    cross_att_dim=4,\n",
    "    save_path=\"./models/trained/basic_mnist_mixed_noise/\"\n",
    ")"
   ]
  },
  {
   "cell_type": "code",
   "execution_count": 5,
   "id": "80a0a045",
   "metadata": {},
   "outputs": [],
   "source": [
    "# try:\n",
    "#     del model\n",
    "#     del optimizer\n",
    "#     del lr_scheduler\n",
    "# except:\n",
    "#     pass\n",
    "\n",
    "# torch.cuda.empty_cache()\n",
    "# import gc\n",
    "# gc.collect()\n",
    "\n",
    "model2, noise_scheduler2, optimizer2, lr_scheduler2, criterion = init_mov_mnist_model(\n",
    "    lr_warmup_steps=100,\n",
    "    num_epochs=1,\n",
    "    beta_start=1.17e-3,\n",
    "    beta_end=1.88e-1,\n",
    "    object_cnt = len(MovMNIST_dataloader),\n",
    "    device=\"cuda:0\"\n",
    ")"
   ]
  },
  {
   "cell_type": "code",
   "execution_count": 6,
   "id": "b7c2e5a7",
   "metadata": {},
   "outputs": [
    {
     "name": "stderr",
     "output_type": "stream",
     "text": [
      "  0%|          | 1/10000 [00:02<8:16:22,  2.98s/it, MSE=0.999]"
     ]
    },
    {
     "name": "stderr",
     "output_type": "stream",
     "text": [
      "100%|██████████| 10000/10000 [8:05:47<00:00,  2.91s/it, MSE=0.00183]  \n"
     ]
    }
   ],
   "source": [
    "losses_uncorr = train_simple_new(\n",
    "    model=model2,\n",
    "    dataloader=MovMNIST_dataloader,\n",
    "    noise_scheduler=noise_scheduler2,\n",
    "    optimizer=optimizer2,\n",
    "    lr_scheduler=lr_scheduler2,\n",
    "    criterion=criterion,\n",
    "    num_epochs=1,\n",
    "    device=\"cuda:0\",\n",
    "    cross_att_dim=4,\n",
    "    noise_cov=progressive_noise,\n",
    "    save_path=\"./models/trained/basic_mnist_prog_noise/\"\n",
    ")"
   ]
  },
  {
   "cell_type": "code",
   "execution_count": 4,
   "id": "34783fbe",
   "metadata": {},
   "outputs": [
    {
     "name": "stderr",
     "output_type": "stream",
     "text": [
      "100%|██████████| 10000/10000 [8:07:58<00:00,  2.93s/it, MSE=6.19e-5]  \n"
     ]
    },
    {
     "ename": "ValueError",
     "evalue": "too many values to unpack (expected 3)",
     "output_type": "error",
     "traceback": [
      "\u001b[0;31m---------------------------------------------------------------------------\u001b[0m",
      "\u001b[0;31mValueError\u001b[0m                                Traceback (most recent call last)",
      "\u001b[1;32m/home/mikhail_2012/diffusion_noise_scheduling/Analysis notebook.ipynb Cell 6\u001b[0m line \u001b[0;36m1\n\u001b[0;32m----> <a href='vscode-notebook-cell:/home/mikhail_2012/diffusion_noise_scheduling/Analysis%20notebook.ipynb#W6sZmlsZQ%3D%3D?line=0'>1</a>\u001b[0m a, b, c \u001b[39m=\u001b[39m train_simple_new(\n\u001b[1;32m      <a href='vscode-notebook-cell:/home/mikhail_2012/diffusion_noise_scheduling/Analysis%20notebook.ipynb#W6sZmlsZQ%3D%3D?line=1'>2</a>\u001b[0m     model\u001b[39m=\u001b[39mmodel,\n\u001b[1;32m      <a href='vscode-notebook-cell:/home/mikhail_2012/diffusion_noise_scheduling/Analysis%20notebook.ipynb#W6sZmlsZQ%3D%3D?line=2'>3</a>\u001b[0m     dataloader\u001b[39m=\u001b[39mMovMNIST_dataloader,\n\u001b[1;32m      <a href='vscode-notebook-cell:/home/mikhail_2012/diffusion_noise_scheduling/Analysis%20notebook.ipynb#W6sZmlsZQ%3D%3D?line=3'>4</a>\u001b[0m     noise_scheduler\u001b[39m=\u001b[39mnoise_scheduler,\n\u001b[1;32m      <a href='vscode-notebook-cell:/home/mikhail_2012/diffusion_noise_scheduling/Analysis%20notebook.ipynb#W6sZmlsZQ%3D%3D?line=4'>5</a>\u001b[0m     optimizer\u001b[39m=\u001b[39moptimizer,\n\u001b[1;32m      <a href='vscode-notebook-cell:/home/mikhail_2012/diffusion_noise_scheduling/Analysis%20notebook.ipynb#W6sZmlsZQ%3D%3D?line=5'>6</a>\u001b[0m     lr_scheduler\u001b[39m=\u001b[39mlr_scheduler,\n\u001b[1;32m      <a href='vscode-notebook-cell:/home/mikhail_2012/diffusion_noise_scheduling/Analysis%20notebook.ipynb#W6sZmlsZQ%3D%3D?line=6'>7</a>\u001b[0m     criterion\u001b[39m=\u001b[39mcriterion,\n\u001b[1;32m      <a href='vscode-notebook-cell:/home/mikhail_2012/diffusion_noise_scheduling/Analysis%20notebook.ipynb#W6sZmlsZQ%3D%3D?line=7'>8</a>\u001b[0m     num_epochs\u001b[39m=\u001b[39m\u001b[39m1\u001b[39m,\n\u001b[1;32m      <a href='vscode-notebook-cell:/home/mikhail_2012/diffusion_noise_scheduling/Analysis%20notebook.ipynb#W6sZmlsZQ%3D%3D?line=8'>9</a>\u001b[0m     device\u001b[39m=\u001b[39m\u001b[39m\"\u001b[39m\u001b[39mcuda:0\u001b[39m\u001b[39m\"\u001b[39m,\n\u001b[1;32m     <a href='vscode-notebook-cell:/home/mikhail_2012/diffusion_noise_scheduling/Analysis%20notebook.ipynb#W6sZmlsZQ%3D%3D?line=9'>10</a>\u001b[0m     noise_cov\u001b[39m=\u001b[39mprogressive_noise,\n\u001b[1;32m     <a href='vscode-notebook-cell:/home/mikhail_2012/diffusion_noise_scheduling/Analysis%20notebook.ipynb#W6sZmlsZQ%3D%3D?line=10'>11</a>\u001b[0m     cross_att_dim\u001b[39m=\u001b[39m\u001b[39m4\u001b[39m,\n\u001b[1;32m     <a href='vscode-notebook-cell:/home/mikhail_2012/diffusion_noise_scheduling/Analysis%20notebook.ipynb#W6sZmlsZQ%3D%3D?line=11'>12</a>\u001b[0m     save_path\u001b[39m=\u001b[39m\u001b[39m\"\u001b[39m\u001b[39m./models/trained/basic_mnist/\u001b[39m\u001b[39m\"\u001b[39m\n\u001b[1;32m     <a href='vscode-notebook-cell:/home/mikhail_2012/diffusion_noise_scheduling/Analysis%20notebook.ipynb#W6sZmlsZQ%3D%3D?line=12'>13</a>\u001b[0m )\n",
      "\u001b[0;31mValueError\u001b[0m: too many values to unpack (expected 3)"
     ]
    }
   ],
   "source": [
    "losses_prog = train_simple_new(\n",
    "    model=model,\n",
    "    dataloader=MovMNIST_dataloader,\n",
    "    noise_scheduler=noise_scheduler,\n",
    "    optimizer=optimizer,\n",
    "    lr_scheduler=lr_scheduler,\n",
    "    criterion=criterion,\n",
    "    num_epochs=1,\n",
    "    device=\"cuda:0\",\n",
    "    noise_cov=progressive_noise,\n",
    "    cross_att_dim=4,\n",
    "    save_path=\"./models/trained/basic_mnist_prog_noise/\"\n",
    ")"
   ]
  },
  {
   "cell_type": "code",
   "execution_count": 12,
   "id": "1d79c627",
   "metadata": {},
   "outputs": [
    {
     "name": "stderr",
     "output_type": "stream",
     "text": [
      "100%|██████████| 100/100 [04:22<00:00,  2.62s/it]\n"
     ]
    }
   ],
   "source": [
    "model.load_state_dict(torch.load(\"./models/trained/basic_mnist_uncorr_noise/model_best.pt\"))\n",
    "\n",
    "vids = sample_videos(\n",
    "    model=model,\n",
    "    num_videos=4,\n",
    "    video_length=20,\n",
    "    noise_scheduler=noise_scheduler,\n",
    "    device=\"cuda:0\",\n",
    "    pic_size=(64, 64),\n",
    "    channel_num=1,\n",
    "    cross_att_dim=4,\n",
    "    noise_cov=mixed_noise,\n",
    "    # display_callback=draw_single_vid_frames,\n",
    "    # sample=sample.unsqueeze(0).cuda(),\n",
    ").detach().cpu()\n",
    "\n",
    "vids = ((vids.clamp(-1, 1) + 1) * 255 / 2).to(torch.uint8)"
   ]
  },
  {
   "cell_type": "code",
   "execution_count": 30,
   "id": "4f32a87c",
   "metadata": {},
   "outputs": [],
   "source": [
    "for i, v in enumerate((MovMNIST_dataset[:4][0] + 1) / 2 * 255):\n",
    "    write_video(f\"./results/MovMNIST/base_samples/{i}.mp4\", v.to(torch.uint8).repeat(3, 1, 1, 1).permute(1, 2, 3, 0), fps=7)"
   ]
  },
  {
   "cell_type": "code",
   "execution_count": 36,
   "id": "03cf87d2",
   "metadata": {},
   "outputs": [],
   "source": [
    "# noise_gen = NormalVideoNoise(cov_matrix = progressive_noise(20))\n",
    "# prompts = sin(arange(1, 20 + 1, device=\"cuda:0\").view(-1, 1) * arange(1, 4 + 1, device=\"cuda:0\")).tile(1).view(1, 20, -1)\n",
    "# sample = noise_gen.sample((1, 1, 20, 64, 64)).to(\"cuda:0\")\n",
    "# residual = model(sample, 99, prompts).sample[0].detach().cpu()\n",
    "# residual = ((residual.clamp(-1, 1) + 1) * 255 / 2).to(torch.uint8)\n",
    "\n",
    "write_video(f\"./results/MovMNIST/progressive_noise/test.mp4\", sample.repeat(3, 1, 1, 1).permute(1, 2, 3, 0), 7)"
   ]
  },
  {
   "cell_type": "code",
   "execution_count": 3,
   "id": "acb59432",
   "metadata": {
    "scrolled": true
   },
   "outputs": [
    {
     "data": {
      "text/plain": [
       "=============================================================================================================================\n",
       "Layer (type:depth-idx)                                                      Output Shape              Param #\n",
       "=============================================================================================================================\n",
       "UNet3DConditionModel                                                        [1, 3, 75, 240, 320]      --\n",
       "├─Timesteps: 1-1                                                            [1, 12]                   --\n",
       "├─TimestepEmbedding: 1-2                                                    [1, 48]                   2,352\n",
       "│    └─LoRACompatibleLinear: 2-1                                            [1, 48]                   624\n",
       "├─SiLU: 1-3                                                                 [1, 48]                   --\n",
       "├─TimestepEmbedding: 1-4                                                    --                        (recursive)\n",
       "│    └─LoRACompatibleLinear: 2-2                                            [1, 48]                   2,352\n",
       "├─Conv2d: 1-5                                                               [75, 12, 240, 320]        336\n",
       "├─TransformerTemporalModel: 1-6                                             [75, 12, 240, 320]        --\n",
       "│    └─GroupNorm: 2-3                                                       [1, 12, 75, 240, 320]     24\n",
       "│    └─Linear: 2-4                                                          [76800, 75, 64]           832\n",
       "│    └─ModuleList: 2-5                                                      --                        --\n",
       "│    │    └─BasicTransformerBlock: 3-1                                      [76800, 75, 64]           83,008\n",
       "│    └─Linear: 2-6                                                          [76800, 75, 12]           780\n",
       "├─ModuleList: 1-19                                                          --                        (recursive)\n",
       "│    └─DownBlock3D: 2-7                                                     [75, 12, 240, 320]        6,996\n",
       "│    │    └─ModuleList: 3-10                                                --                        (recursive)\n",
       "├─SiLU: 1-8                                                                 [75, 12, 240, 320]        --\n",
       "├─ModuleList: 1-19                                                          --                        (recursive)\n",
       "│    └─DownBlock3D: 2-13                                                    --                        (recursive)\n",
       "│    │    └─ModuleList: 3-10                                                --                        (recursive)\n",
       "├─SiLU: 1-10                                                                [75, 48]                  --\n",
       "├─ModuleList: 1-19                                                          --                        (recursive)\n",
       "│    └─DownBlock3D: 2-13                                                    --                        (recursive)\n",
       "│    │    └─ModuleList: 3-10                                                --                        (recursive)\n",
       "├─SiLU: 1-12                                                                [75, 12, 240, 320]        --\n",
       "├─ModuleList: 1-19                                                          --                        (recursive)\n",
       "│    └─DownBlock3D: 2-13                                                    --                        (recursive)\n",
       "│    │    └─ModuleList: 3-10                                                --                        (recursive)\n",
       "│    │    └─ModuleList: 3-11                                                --                        (recursive)\n",
       "│    │    └─ModuleList: 3-10                                                --                        (recursive)\n",
       "├─SiLU: 1-14                                                                [75, 12, 240, 320]        --\n",
       "├─ModuleList: 1-19                                                          --                        (recursive)\n",
       "│    └─DownBlock3D: 2-13                                                    --                        (recursive)\n",
       "│    │    └─ModuleList: 3-10                                                --                        (recursive)\n",
       "├─SiLU: 1-16                                                                [75, 48]                  --\n",
       "├─ModuleList: 1-19                                                          --                        (recursive)\n",
       "│    └─DownBlock3D: 2-13                                                    --                        (recursive)\n",
       "│    │    └─ModuleList: 3-10                                                --                        (recursive)\n",
       "├─SiLU: 1-18                                                                [75, 12, 240, 320]        --\n",
       "├─ModuleList: 1-19                                                          --                        (recursive)\n",
       "│    └─DownBlock3D: 2-13                                                    --                        (recursive)\n",
       "│    │    └─ModuleList: 3-10                                                --                        (recursive)\n",
       "│    │    └─ModuleList: 3-11                                                --                        (recursive)\n",
       "├─UNetMidBlock3DCrossAttn: 1-20                                             [75, 12, 240, 320]        10,556\n",
       "│    └─ModuleList: 2-24                                                     --                        (recursive)\n",
       "│    │    └─ResnetBlock2D: 3-12                                             [75, 12, 240, 320]        3,252\n",
       "├─SiLU: 1-21                                                                [75, 12, 240, 320]        --\n",
       "├─UNetMidBlock3DCrossAttn: 1-32                                             --                        (recursive)\n",
       "│    └─ModuleList: 2-24                                                     --                        (recursive)\n",
       "│    │    └─ResnetBlock2D: 3-15                                             --                        (recursive)\n",
       "├─SiLU: 1-23                                                                [75, 48]                  --\n",
       "├─UNetMidBlock3DCrossAttn: 1-32                                             --                        (recursive)\n",
       "│    └─ModuleList: 2-24                                                     --                        (recursive)\n",
       "│    │    └─ResnetBlock2D: 3-15                                             --                        (recursive)\n",
       "├─SiLU: 1-25                                                                [75, 12, 240, 320]        --\n",
       "├─UNetMidBlock3DCrossAttn: 1-32                                             --                        (recursive)\n",
       "│    └─ModuleList: 2-24                                                     --                        (recursive)\n",
       "│    │    └─ResnetBlock2D: 3-15                                             --                        (recursive)\n",
       "│    └─ModuleList: 2-25                                                     --                        (recursive)\n",
       "│    │    └─TemporalConvLayer: 3-16                                         [75, 12, 240, 320]        1,872\n",
       "│    └─ModuleList: 2-19                                                     --                        --\n",
       "│    │    └─Transformer2DModel: 3-17                                        [75, 12, 240, 320]        1,908\n",
       "│    └─ModuleList: 2-20                                                     --                        --\n",
       "│    │    └─TransformerTemporalModel: 3-18                                  [75, 12, 240, 320]        1,652\n",
       "│    └─ModuleList: 2-24                                                     --                        (recursive)\n",
       "│    │    └─ResnetBlock2D: 3-19                                             [75, 12, 240, 320]        3,252\n",
       "├─SiLU: 1-27                                                                [75, 12, 240, 320]        --\n",
       "├─UNetMidBlock3DCrossAttn: 1-32                                             --                        (recursive)\n",
       "│    └─ModuleList: 2-24                                                     --                        (recursive)\n",
       "│    │    └─ResnetBlock2D: 3-22                                             --                        (recursive)\n",
       "├─SiLU: 1-29                                                                [75, 48]                  --\n",
       "├─UNetMidBlock3DCrossAttn: 1-32                                             --                        (recursive)\n",
       "│    └─ModuleList: 2-24                                                     --                        (recursive)\n",
       "│    │    └─ResnetBlock2D: 3-22                                             --                        (recursive)\n",
       "├─SiLU: 1-31                                                                [75, 12, 240, 320]        --\n",
       "├─UNetMidBlock3DCrossAttn: 1-32                                             --                        (recursive)\n",
       "│    └─ModuleList: 2-24                                                     --                        (recursive)\n",
       "│    │    └─ResnetBlock2D: 3-22                                             --                        (recursive)\n",
       "│    └─ModuleList: 2-25                                                     --                        (recursive)\n",
       "│    │    └─TemporalConvLayer: 3-23                                         [75, 12, 240, 320]        1,872\n",
       "├─ModuleList: 1-51                                                          --                        (recursive)\n",
       "│    └─UpBlock3D: 2-26                                                      [75, 12, 240, 320]        15,360\n",
       "│    │    └─ModuleList: 3-37                                                --                        (recursive)\n",
       "├─SiLU: 1-34                                                                [75, 24, 240, 320]        --\n",
       "├─ModuleList: 1-51                                                          --                        (recursive)\n",
       "│    └─UpBlock3D: 2-35                                                      --                        (recursive)\n",
       "│    │    └─ModuleList: 3-37                                                --                        (recursive)\n",
       "├─SiLU: 1-36                                                                [75, 48]                  --\n",
       "├─ModuleList: 1-51                                                          --                        (recursive)\n",
       "│    └─UpBlock3D: 2-35                                                      --                        (recursive)\n",
       "│    │    └─ModuleList: 3-37                                                --                        (recursive)\n",
       "├─SiLU: 1-38                                                                [75, 12, 240, 320]        --\n",
       "├─ModuleList: 1-51                                                          --                        (recursive)\n",
       "│    └─UpBlock3D: 2-35                                                      --                        (recursive)\n",
       "│    │    └─ModuleList: 3-37                                                --                        (recursive)\n",
       "│    │    └─ModuleList: 3-38                                                --                        (recursive)\n",
       "│    │    └─ModuleList: 3-37                                                --                        (recursive)\n",
       "├─SiLU: 1-40                                                                [75, 24, 240, 320]        --\n",
       "├─ModuleList: 1-51                                                          --                        (recursive)\n",
       "│    └─UpBlock3D: 2-35                                                      --                        (recursive)\n",
       "│    │    └─ModuleList: 3-37                                                --                        (recursive)\n",
       "├─SiLU: 1-42                                                                [75, 48]                  --\n",
       "├─ModuleList: 1-51                                                          --                        (recursive)\n",
       "│    └─UpBlock3D: 2-35                                                      --                        (recursive)\n",
       "│    │    └─ModuleList: 3-37                                                --                        (recursive)\n",
       "├─SiLU: 1-44                                                                [75, 12, 240, 320]        --\n",
       "├─ModuleList: 1-51                                                          --                        (recursive)\n",
       "│    └─UpBlock3D: 2-35                                                      --                        (recursive)\n",
       "│    │    └─ModuleList: 3-37                                                --                        (recursive)\n",
       "│    │    └─ModuleList: 3-38                                                --                        (recursive)\n",
       "│    │    └─ModuleList: 3-37                                                --                        (recursive)\n",
       "├─SiLU: 1-46                                                                [75, 24, 240, 320]        --\n",
       "├─ModuleList: 1-51                                                          --                        (recursive)\n",
       "│    └─UpBlock3D: 2-35                                                      --                        (recursive)\n",
       "│    │    └─ModuleList: 3-37                                                --                        (recursive)\n",
       "├─SiLU: 1-48                                                                [75, 48]                  --\n",
       "├─ModuleList: 1-51                                                          --                        (recursive)\n",
       "│    └─UpBlock3D: 2-35                                                      --                        (recursive)\n",
       "│    │    └─ModuleList: 3-37                                                --                        (recursive)\n",
       "├─SiLU: 1-50                                                                [75, 12, 240, 320]        --\n",
       "├─ModuleList: 1-51                                                          --                        (recursive)\n",
       "│    └─UpBlock3D: 2-35                                                      --                        (recursive)\n",
       "│    │    └─ModuleList: 3-37                                                --                        (recursive)\n",
       "│    │    └─ModuleList: 3-38                                                --                        (recursive)\n",
       "├─GroupNorm: 1-52                                                           [75, 12, 240, 320]        24\n",
       "├─SiLU: 1-53                                                                [75, 12, 240, 320]        --\n",
       "├─Conv2d: 1-54                                                              [75, 3, 240, 320]         327\n",
       "=============================================================================================================================\n",
       "Total params: 195,243\n",
       "Trainable params: 195,243\n",
       "Non-trainable params: 0\n",
       "Total mult-adds (Units.GIGABYTES): 215.11\n",
       "=============================================================================================================================\n",
       "Input size (MB): 69.13\n",
       "Forward/backward pass size (MB): 131006.21\n",
       "Params size (MB): 0.53\n",
       "Estimated Total Size (MB): 131075.87\n",
       "============================================================================================================================="
      ]
     },
     "execution_count": 3,
     "metadata": {},
     "output_type": "execute_result"
    }
   ],
   "source": [
    "# torch.backends.cuda.enable_mem_efficient_sdp(False)\n",
    "# torch.backends.cuda.enable_flash_sdp(False)\n",
    "# torch.backends.cuda.enable_math_sdp(False)\n",
    "\n",
    "summary(\n",
    "    model,\n",
    "    input_data = {\n",
    "        \"sample\": torch.randn(1, 3, 75, 240, 320),\n",
    "        \"timestep\": 500,\n",
    "        \"encoder_hidden_states\": torch.ones(1, 75, 24) * 3.0,\n",
    "    }\n",
    ")"
   ]
  }
 ],
 "metadata": {
  "kernelspec": {
   "display_name": "Python 3 (ipykernel)",
   "language": "python",
   "name": "python3"
  },
  "language_info": {
   "codemirror_mode": {
    "name": "ipython",
    "version": 3
   },
   "file_extension": ".py",
   "mimetype": "text/x-python",
   "name": "python",
   "nbconvert_exporter": "python",
   "pygments_lexer": "ipython3",
   "version": "3.11.6"
  }
 },
 "nbformat": 4,
 "nbformat_minor": 5
}
